{
  "nbformat": 4,
  "nbformat_minor": 0,
  "metadata": {
    "colab": {
      "name": "IMS.ipynb",
      "provenance": []
    },
    "kernelspec": {
      "name": "python3",
      "display_name": "Python 3"
    },
    "language_info": {
      "name": "python"
    }
  },
  "cells": [
    {
      "cell_type": "code",
      "metadata": {
        "id": "AJ6Lpq1jQukF"
      },
      "source": [
        "product = {\n",
        "    112301 : {'product name' : 'head&shoulders shampoo', 'quantity' : 250, 'bill generated' : 80, 'purchase date' : '1 sept 2021', 'exp date' : '4 nov 2022'},\n",
        "    112302 : {'product name' : 'Bourbon', 'quantity' : 100, 'bill generated' : 25, 'purchase date' : '1 sept 2021', 'exp date' : '4 nov 2022'},\n",
        "    112303 : {'product name' : 'hide&seek', 'quantity' : 100, 'bill generated' : 30, 'purchase date' : '1 sept 2021', 'exp date' : '4 nov 2022'},\n",
        "    112304 : {'product name' : 'ponds powder', 'quantity' : 200, 'bill generated' : 180, 'purchase date' : '1 sept 2021', 'exp date' : '12 dec 2022'},\n",
        "    112305 : {'product name' : 'coconut oil', 'quantity' : 500, 'bill generated' : 200, 'purchase date' : '1 sept 2021', 'exp date' : '4 nov 2022'},\n",
        "    112306 : {'product name' : 'dettol', 'quantity' : 250, 'bill generated' : 300, 'purchase date' : '1 sept 2021', 'exp date' : '4 nov 2022'},\n",
        "    112307 : {'product name' : 'earphones', 'quantity' : 100, 'bill generated' : 500, 'purchase date' : '1 sept 2021', 'exp date' : 'nil'},\n",
        "    112308 : {'product name' : 'maggie', 'quantity' : 100, 'bill generated' : 10, 'purchase date' : '1 sept 2021', 'exp date' : '4 nov 2022'},\n",
        "    112309 : {'product name' : 'yipee', 'quantity' : 100, 'bill generated' : 12, 'purchase date' : '1 sept 2021', 'exp date' : '4 nov 2022'},\n",
        "    112310 : {'product name' : 'fair&lovely', 'quantity' : 50, 'bill generated' : 100, 'purchase date' : '1 sept 2021', 'exp date' : '4 nov 2022'},\n",
        "    112311 : {'product name' : 'dark fantasy', 'quantity' : 100, 'bill generated' :30 , 'purchase date' : '1 sept 2021', 'exp date' : '4 nov 2022'},\n",
        "    112312 : {'product name' : 'britannia', 'quantity' : 500, 'bill generated' : 50, 'purchase date' : '1 sept 2021', 'exp date' : '4 nov 2022'},\n",
        "    112313 : {'product name' : 'moms magic', 'quantity' : 250, 'bill generated' : 20, 'purchase date' : '1 sept 2021', 'exp date' : '4 nov 2022'},\n",
        "    112314 : {'product name' : 'goodday', 'quantity' : 100, 'bill generated' : 30, 'purchase date' : '1 sept 2021', 'exp date' : '4 nov 2022'},\n",
        "    112315 : {'product name' : 'boost', 'quantity' : 500, 'bill generated' : 270 , 'purchase date' : '1 sept 2021', 'exp date' : '4 nov 2022'},\n",
        "    112316 : {'product name' : 'complan', 'quantity' : 500, 'bill generated' : 370 , 'purchase date' : '1 sept 2021', 'exp date' : '4 nov 2022'},\n",
        "    112317 : {'product name' : 'horlicks', 'quantity' : 500, 'bill generated' : 250, 'purchase date' : '1 sept 2021', 'exp date' : '4 nov 2022'},\n",
        "    112318 : {'product name' : 'surf excel', 'quantity' : 500, 'bill generated' : 400 , 'purchase date' : '1 sept 2021', 'exp date' : '4 nov 2022'},\n",
        "    112319 : {'product name' : 'vim liquid', 'quantity' : 400, 'bill generated' : 80, 'purchase date' : '1 sept 2021', 'exp date' : '4 nov 2022'},\n",
        "    112320 : {'product name' : 'cinthol soap', 'quantity' : 100, 'bill generated' : 30 , 'purchase date' : '1 sept 2021', 'exp date' : '4 nov 2022'},\n",
        "    112321 : {'product name' : 'mysore sandal', 'quantity' : 100, 'bill generated' : 50 , 'purchase date' : '1 sept 2021', 'exp date' : '4 nov 2022'},\n",
        "    112322 : {'product name' : 'lux', 'quantity' : 100, 'bill generated' : 40 , 'purchase date' : '1 sept 2021', 'exp date' : '4 nov 2022'},\n",
        "    112323 : {'product name' : 'rin soap', 'quantity' : 100, 'bill generated' : 30, 'purchase date' : '1 sept 2021', 'exp date' : '4 nov 2022'},\n",
        "    112324 : {'product name' : 'clinic plus', 'quantity' : 300, 'bill generated' : 160, 'purchase date' : '1 sept 2021', 'exp date' : '4 nov 2022'},\n",
        "    112325 : {'product name' : 'soyabeans', 'quantity' : 100, 'bill generated' : 90 , 'purchase date' : '1 sept 2021', 'exp date' : '4 nov 2022'},\n",
        "    112326 : {'product name' : 'sompapidi', 'quantity' : 100, 'bill generated' : 200, 'purchase date' : '1 sept 2021', 'exp date' : '4 nov 2022'},\n",
        "    112327 : {'product name' : 'Reynold ball pens', 'quantity' : 100, 'bill generated' : 30 , 'purchase date' : '1 sept 2021', 'exp date' : '4 nov 2022'},\n",
        "    112328 : {'product name' : 'classmate notebooks', 'quantity' : 100, 'bill generated' : 150 , 'purchase date' : '1 sept 2021', 'exp date' : '4 nov 2022'},\n",
        "    112329 : {'product name' : 'apsara pencil', 'quantity' : 100, 'bill generated' : 50 , 'purchase date' : '1 sept 2021', 'exp date' : '4 nov 2022'},\n",
        "    112330 : {'product name' : 'camlin sketch pens', 'quantity' : 100, 'bill generated' : 60 , 'purchase date' : '1 sept 2021', 'exp date' : '4 nov 2022'}\n",
        "\n",
        "}"
      ],
      "execution_count": 1,
      "outputs": []
    },
    {
      "cell_type": "code",
      "metadata": {
        "colab": {
          "base_uri": "https://localhost:8080/"
        },
        "id": "O1nkaP6PQ39N",
        "outputId": "cf7036f2-2b24-4dc8-9014-d7996001b56b"
      },
      "source": [
        "print(product)"
      ],
      "execution_count": 2,
      "outputs": [
        {
          "output_type": "stream",
          "name": "stdout",
          "text": [
            "{112301: {'product name': 'head&shoulders shampoo', 'quantity': 250, 'bill generated': 80, 'purchase date': '1 sept 2021', 'exp date': '4 nov 2022'}, 112302: {'product name': 'Bourbon', 'quantity': 100, 'bill generated': 25, 'purchase date': '1 sept 2021', 'exp date': '4 nov 2022'}, 112303: {'product name': 'hide&seek', 'quantity': 100, 'bill generated': 30, 'purchase date': '1 sept 2021', 'exp date': '4 nov 2022'}, 112304: {'product name': 'ponds powder', 'quantity': 200, 'bill generated': 180, 'purchase date': '1 sept 2021', 'exp date': '12 dec 2022'}, 112305: {'product name': 'coconut oil', 'quantity': 500, 'bill generated': 200, 'purchase date': '1 sept 2021', 'exp date': '4 nov 2022'}, 112306: {'product name': 'dettol', 'quantity': 250, 'bill generated': 300, 'purchase date': '1 sept 2021', 'exp date': '4 nov 2022'}, 112307: {'product name': 'earphones', 'quantity': 100, 'bill generated': 500, 'purchase date': '1 sept 2021', 'exp date': 'nil'}, 112308: {'product name': 'maggie', 'quantity': 100, 'bill generated': 10, 'purchase date': '1 sept 2021', 'exp date': '4 nov 2022'}, 112309: {'product name': 'yipee', 'quantity': 100, 'bill generated': 12, 'purchase date': '1 sept 2021', 'exp date': '4 nov 2022'}, 112310: {'product name': 'fair&lovely', 'quantity': 50, 'bill generated': 100, 'purchase date': '1 sept 2021', 'exp date': '4 nov 2022'}, 112311: {'product name': 'dark fantasy', 'quantity': 100, 'bill generated': 30, 'purchase date': '1 sept 2021', 'exp date': '4 nov 2022'}, 112312: {'product name': 'britannia', 'quantity': 500, 'bill generated': 50, 'purchase date': '1 sept 2021', 'exp date': '4 nov 2022'}, 112313: {'product name': 'moms magic', 'quantity': 250, 'bill generated': 20, 'purchase date': '1 sept 2021', 'exp date': '4 nov 2022'}, 112314: {'product name': 'goodday', 'quantity': 100, 'bill generated': 30, 'purchase date': '1 sept 2021', 'exp date': '4 nov 2022'}, 112315: {'product name': 'boost', 'quantity': 500, 'bill generated': 270, 'purchase date': '1 sept 2021', 'exp date': '4 nov 2022'}, 112316: {'product name': 'complan', 'quantity': 500, 'bill generated': 370, 'purchase date': '1 sept 2021', 'exp date': '4 nov 2022'}, 112317: {'product name': 'horlicks', 'quantity': 500, 'bill generated': 250, 'purchase date': '1 sept 2021', 'exp date': '4 nov 2022'}, 112318: {'product name': 'surf excel', 'quantity': 500, 'bill generated': 400, 'purchase date': '1 sept 2021', 'exp date': '4 nov 2022'}, 112319: {'product name': 'vim liquid', 'quantity': 400, 'bill generated': 80, 'purchase date': '1 sept 2021', 'exp date': '4 nov 2022'}, 112320: {'product name': 'cinthol soap', 'quantity': 100, 'bill generated': 30, 'purchase date': '1 sept 2021', 'exp date': '4 nov 2022'}, 112321: {'product name': 'mysore sandal', 'quantity': 100, 'bill generated': 50, 'purchase date': '1 sept 2021', 'exp date': '4 nov 2022'}, 112322: {'product name': 'lux', 'quantity': 100, 'bill generated': 40, 'purchase date': '1 sept 2021', 'exp date': '4 nov 2022'}, 112323: {'product name': 'rin soap', 'quantity': 100, 'bill generated': 30, 'purchase date': '1 sept 2021', 'exp date': '4 nov 2022'}, 112324: {'product name': 'clinic plus', 'quantity': 300, 'bill generated': 160, 'purchase date': '1 sept 2021', 'exp date': '4 nov 2022'}, 112325: {'product name': 'soyabeans', 'quantity': 100, 'bill generated': 90, 'purchase date': '1 sept 2021', 'exp date': '4 nov 2022'}, 112326: {'product name': 'sompapidi', 'quantity': 100, 'bill generated': 200, 'purchase date': '1 sept 2021', 'exp date': '4 nov 2022'}, 112327: {'product name': 'Reynold ball pens', 'quantity': 100, 'bill generated': 30, 'purchase date': '1 sept 2021', 'exp date': '4 nov 2022'}, 112328: {'product name': 'classmate notebooks', 'quantity': 100, 'bill generated': 150, 'purchase date': '1 sept 2021', 'exp date': '4 nov 2022'}, 112329: {'product name': 'apsara pencil', 'quantity': 100, 'bill generated': 50, 'purchase date': '1 sept 2021', 'exp date': '4 nov 2022'}, 112330: {'product name': 'camlin sketch pens', 'quantity': 100, 'bill generated': 60, 'purchase date': '1 sept 2021', 'exp date': '4 nov 2022'}}\n"
          ]
        }
      ]
    },
    {
      "cell_type": "code",
      "metadata": {
        "colab": {
          "base_uri": "https://localhost:8080/"
        },
        "id": "X6y4HeIGQ7u_",
        "outputId": "75b25009-d309-4306-a27a-62425f07ee68"
      },
      "source": [
        "product.values()"
      ],
      "execution_count": 3,
      "outputs": [
        {
          "output_type": "execute_result",
          "data": {
            "text/plain": [
              "dict_values([{'product name': 'head&shoulders shampoo', 'quantity': 250, 'bill generated': 80, 'purchase date': '1 sept 2021', 'exp date': '4 nov 2022'}, {'product name': 'Bourbon', 'quantity': 100, 'bill generated': 25, 'purchase date': '1 sept 2021', 'exp date': '4 nov 2022'}, {'product name': 'hide&seek', 'quantity': 100, 'bill generated': 30, 'purchase date': '1 sept 2021', 'exp date': '4 nov 2022'}, {'product name': 'ponds powder', 'quantity': 200, 'bill generated': 180, 'purchase date': '1 sept 2021', 'exp date': '12 dec 2022'}, {'product name': 'coconut oil', 'quantity': 500, 'bill generated': 200, 'purchase date': '1 sept 2021', 'exp date': '4 nov 2022'}, {'product name': 'dettol', 'quantity': 250, 'bill generated': 300, 'purchase date': '1 sept 2021', 'exp date': '4 nov 2022'}, {'product name': 'earphones', 'quantity': 100, 'bill generated': 500, 'purchase date': '1 sept 2021', 'exp date': 'nil'}, {'product name': 'maggie', 'quantity': 100, 'bill generated': 10, 'purchase date': '1 sept 2021', 'exp date': '4 nov 2022'}, {'product name': 'yipee', 'quantity': 100, 'bill generated': 12, 'purchase date': '1 sept 2021', 'exp date': '4 nov 2022'}, {'product name': 'fair&lovely', 'quantity': 50, 'bill generated': 100, 'purchase date': '1 sept 2021', 'exp date': '4 nov 2022'}, {'product name': 'dark fantasy', 'quantity': 100, 'bill generated': 30, 'purchase date': '1 sept 2021', 'exp date': '4 nov 2022'}, {'product name': 'britannia', 'quantity': 500, 'bill generated': 50, 'purchase date': '1 sept 2021', 'exp date': '4 nov 2022'}, {'product name': 'moms magic', 'quantity': 250, 'bill generated': 20, 'purchase date': '1 sept 2021', 'exp date': '4 nov 2022'}, {'product name': 'goodday', 'quantity': 100, 'bill generated': 30, 'purchase date': '1 sept 2021', 'exp date': '4 nov 2022'}, {'product name': 'boost', 'quantity': 500, 'bill generated': 270, 'purchase date': '1 sept 2021', 'exp date': '4 nov 2022'}, {'product name': 'complan', 'quantity': 500, 'bill generated': 370, 'purchase date': '1 sept 2021', 'exp date': '4 nov 2022'}, {'product name': 'horlicks', 'quantity': 500, 'bill generated': 250, 'purchase date': '1 sept 2021', 'exp date': '4 nov 2022'}, {'product name': 'surf excel', 'quantity': 500, 'bill generated': 400, 'purchase date': '1 sept 2021', 'exp date': '4 nov 2022'}, {'product name': 'vim liquid', 'quantity': 400, 'bill generated': 80, 'purchase date': '1 sept 2021', 'exp date': '4 nov 2022'}, {'product name': 'cinthol soap', 'quantity': 100, 'bill generated': 30, 'purchase date': '1 sept 2021', 'exp date': '4 nov 2022'}, {'product name': 'mysore sandal', 'quantity': 100, 'bill generated': 50, 'purchase date': '1 sept 2021', 'exp date': '4 nov 2022'}, {'product name': 'lux', 'quantity': 100, 'bill generated': 40, 'purchase date': '1 sept 2021', 'exp date': '4 nov 2022'}, {'product name': 'rin soap', 'quantity': 100, 'bill generated': 30, 'purchase date': '1 sept 2021', 'exp date': '4 nov 2022'}, {'product name': 'clinic plus', 'quantity': 300, 'bill generated': 160, 'purchase date': '1 sept 2021', 'exp date': '4 nov 2022'}, {'product name': 'soyabeans', 'quantity': 100, 'bill generated': 90, 'purchase date': '1 sept 2021', 'exp date': '4 nov 2022'}, {'product name': 'sompapidi', 'quantity': 100, 'bill generated': 200, 'purchase date': '1 sept 2021', 'exp date': '4 nov 2022'}, {'product name': 'Reynold ball pens', 'quantity': 100, 'bill generated': 30, 'purchase date': '1 sept 2021', 'exp date': '4 nov 2022'}, {'product name': 'classmate notebooks', 'quantity': 100, 'bill generated': 150, 'purchase date': '1 sept 2021', 'exp date': '4 nov 2022'}, {'product name': 'apsara pencil', 'quantity': 100, 'bill generated': 50, 'purchase date': '1 sept 2021', 'exp date': '4 nov 2022'}, {'product name': 'camlin sketch pens', 'quantity': 100, 'bill generated': 60, 'purchase date': '1 sept 2021', 'exp date': '4 nov 2022'}])"
            ]
          },
          "metadata": {},
          "execution_count": 3
        }
      ]
    },
    {
      "cell_type": "code",
      "metadata": {
        "colab": {
          "base_uri": "https://localhost:8080/"
        },
        "id": "879vN0Q4RIFW",
        "outputId": "5289f4f0-a55d-4ff9-8016-b5bf9acfb51c"
      },
      "source": [
        "product.keys()"
      ],
      "execution_count": 4,
      "outputs": [
        {
          "output_type": "execute_result",
          "data": {
            "text/plain": [
              "dict_keys([112301, 112302, 112303, 112304, 112305, 112306, 112307, 112308, 112309, 112310, 112311, 112312, 112313, 112314, 112315, 112316, 112317, 112318, 112319, 112320, 112321, 112322, 112323, 112324, 112325, 112326, 112327, 112328, 112329, 112330])"
            ]
          },
          "metadata": {},
          "execution_count": 4
        }
      ]
    },
    {
      "cell_type": "code",
      "metadata": {
        "colab": {
          "base_uri": "https://localhost:8080/"
        },
        "id": "1JluHYoeFWBq",
        "outputId": "393fd29d-db5a-4be3-8b54-60215748dbde"
      },
      "source": [
        "print(product[112301]['product name'])"
      ],
      "execution_count": 5,
      "outputs": [
        {
          "output_type": "stream",
          "name": "stdout",
          "text": [
            "head&shoulders shampoo\n"
          ]
        }
      ]
    },
    {
      "cell_type": "code",
      "metadata": {
        "colab": {
          "base_uri": "https://localhost:8080/",
          "height": 35
        },
        "id": "6ouWCWIDGtw_",
        "outputId": "c802e6e4-46a5-45c3-b87d-b9680dea5d86"
      },
      "source": [
        "product[112301]['product name']"
      ],
      "execution_count": 6,
      "outputs": [
        {
          "output_type": "execute_result",
          "data": {
            "application/vnd.google.colaboratory.intrinsic+json": {
              "type": "string"
            },
            "text/plain": [
              "'head&shoulders shampoo'"
            ]
          },
          "metadata": {},
          "execution_count": 6
        }
      ]
    },
    {
      "cell_type": "code",
      "metadata": {
        "id": "zRHf9NCLHKMM"
      },
      "source": [
        "product[112301]['product name'] = 'meera shampoo'"
      ],
      "execution_count": 7,
      "outputs": []
    },
    {
      "cell_type": "code",
      "metadata": {
        "colab": {
          "base_uri": "https://localhost:8080/"
        },
        "id": "yECOkAILHWtd",
        "outputId": "422e8882-705c-4624-d3a8-7727e8914be7"
      },
      "source": [
        "product[112301]"
      ],
      "execution_count": 8,
      "outputs": [
        {
          "output_type": "execute_result",
          "data": {
            "text/plain": [
              "{'bill generated': 80,\n",
              " 'exp date': '4 nov 2022',\n",
              " 'product name': 'meera shampoo',\n",
              " 'purchase date': '1 sept 2021',\n",
              " 'quantity': 250}"
            ]
          },
          "metadata": {},
          "execution_count": 8
        }
      ]
    },
    {
      "cell_type": "code",
      "metadata": {
        "id": "Ih57qJXLRNrC",
        "colab": {
          "base_uri": "https://localhost:8080/"
        },
        "outputId": "8cd6daaf-2af3-4f46-bf37-22f07ca7ef6a"
      },
      "source": [
        "for i in product:\n",
        "  print(i)"
      ],
      "execution_count": 9,
      "outputs": [
        {
          "output_type": "stream",
          "name": "stdout",
          "text": [
            "112301\n",
            "112302\n",
            "112303\n",
            "112304\n",
            "112305\n",
            "112306\n",
            "112307\n",
            "112308\n",
            "112309\n",
            "112310\n",
            "112311\n",
            "112312\n",
            "112313\n",
            "112314\n",
            "112315\n",
            "112316\n",
            "112317\n",
            "112318\n",
            "112319\n",
            "112320\n",
            "112321\n",
            "112322\n",
            "112323\n",
            "112324\n",
            "112325\n",
            "112326\n",
            "112327\n",
            "112328\n",
            "112329\n",
            "112330\n"
          ]
        }
      ]
    },
    {
      "cell_type": "markdown",
      "metadata": {
        "id": "CYfgPBHtiagt"
      },
      "source": [
        "#Read data from json"
      ]
    },
    {
      "cell_type": "code",
      "metadata": {
        "id": "U_Z5xMrhRMz7"
      },
      "source": [
        "import json"
      ],
      "execution_count": 10,
      "outputs": []
    },
    {
      "cell_type": "code",
      "metadata": {
        "id": "-DQK08-8zzRo"
      },
      "source": [
        "js = json.dumps(product)"
      ],
      "execution_count": 11,
      "outputs": []
    },
    {
      "cell_type": "code",
      "metadata": {
        "colab": {
          "base_uri": "https://localhost:8080/",
          "height": 137
        },
        "id": "8fVJFBMr0ZS1",
        "outputId": "3f09c555-19f5-416b-ede5-2faee9c0ec5c"
      },
      "source": [
        "js"
      ],
      "execution_count": 12,
      "outputs": [
        {
          "output_type": "execute_result",
          "data": {
            "application/vnd.google.colaboratory.intrinsic+json": {
              "type": "string"
            },
            "text/plain": [
              "'{\"112301\": {\"product name\": \"meera shampoo\", \"quantity\": 250, \"bill generated\": 80, \"purchase date\": \"1 sept 2021\", \"exp date\": \"4 nov 2022\"}, \"112302\": {\"product name\": \"Bourbon\", \"quantity\": 100, \"bill generated\": 25, \"purchase date\": \"1 sept 2021\", \"exp date\": \"4 nov 2022\"}, \"112303\": {\"product name\": \"hide&seek\", \"quantity\": 100, \"bill generated\": 30, \"purchase date\": \"1 sept 2021\", \"exp date\": \"4 nov 2022\"}, \"112304\": {\"product name\": \"ponds powder\", \"quantity\": 200, \"bill generated\": 180, \"purchase date\": \"1 sept 2021\", \"exp date\": \"12 dec 2022\"}, \"112305\": {\"product name\": \"coconut oil\", \"quantity\": 500, \"bill generated\": 200, \"purchase date\": \"1 sept 2021\", \"exp date\": \"4 nov 2022\"}, \"112306\": {\"product name\": \"dettol\", \"quantity\": 250, \"bill generated\": 300, \"purchase date\": \"1 sept 2021\", \"exp date\": \"4 nov 2022\"}, \"112307\": {\"product name\": \"earphones\", \"quantity\": 100, \"bill generated\": 500, \"purchase date\": \"1 sept 2021\", \"exp date\": \"nil\"}, \"112308\": {\"product name\": \"maggie\", \"quantity\": 100, \"bill generated\": 10, \"purchase date\": \"1 sept 2021\", \"exp date\": \"4 nov 2022\"}, \"112309\": {\"product name\": \"yipee\", \"quantity\": 100, \"bill generated\": 12, \"purchase date\": \"1 sept 2021\", \"exp date\": \"4 nov 2022\"}, \"112310\": {\"product name\": \"fair&lovely\", \"quantity\": 50, \"bill generated\": 100, \"purchase date\": \"1 sept 2021\", \"exp date\": \"4 nov 2022\"}, \"112311\": {\"product name\": \"dark fantasy\", \"quantity\": 100, \"bill generated\": 30, \"purchase date\": \"1 sept 2021\", \"exp date\": \"4 nov 2022\"}, \"112312\": {\"product name\": \"britannia\", \"quantity\": 500, \"bill generated\": 50, \"purchase date\": \"1 sept 2021\", \"exp date\": \"4 nov 2022\"}, \"112313\": {\"product name\": \"moms magic\", \"quantity\": 250, \"bill generated\": 20, \"purchase date\": \"1 sept 2021\", \"exp date\": \"4 nov 2022\"}, \"112314\": {\"product name\": \"goodday\", \"quantity\": 100, \"bill generated\": 30, \"purchase date\": \"1 sept 2021\", \"exp date\": \"4 nov 2022\"}, \"112315\": {\"product name\": \"boost\", \"quantity\": 500, \"bill generated\": 270, \"purchase date\": \"1 sept 2021\", \"exp date\": \"4 nov 2022\"}, \"112316\": {\"product name\": \"complan\", \"quantity\": 500, \"bill generated\": 370, \"purchase date\": \"1 sept 2021\", \"exp date\": \"4 nov 2022\"}, \"112317\": {\"product name\": \"horlicks\", \"quantity\": 500, \"bill generated\": 250, \"purchase date\": \"1 sept 2021\", \"exp date\": \"4 nov 2022\"}, \"112318\": {\"product name\": \"surf excel\", \"quantity\": 500, \"bill generated\": 400, \"purchase date\": \"1 sept 2021\", \"exp date\": \"4 nov 2022\"}, \"112319\": {\"product name\": \"vim liquid\", \"quantity\": 400, \"bill generated\": 80, \"purchase date\": \"1 sept 2021\", \"exp date\": \"4 nov 2022\"}, \"112320\": {\"product name\": \"cinthol soap\", \"quantity\": 100, \"bill generated\": 30, \"purchase date\": \"1 sept 2021\", \"exp date\": \"4 nov 2022\"}, \"112321\": {\"product name\": \"mysore sandal\", \"quantity\": 100, \"bill generated\": 50, \"purchase date\": \"1 sept 2021\", \"exp date\": \"4 nov 2022\"}, \"112322\": {\"product name\": \"lux\", \"quantity\": 100, \"bill generated\": 40, \"purchase date\": \"1 sept 2021\", \"exp date\": \"4 nov 2022\"}, \"112323\": {\"product name\": \"rin soap\", \"quantity\": 100, \"bill generated\": 30, \"purchase date\": \"1 sept 2021\", \"exp date\": \"4 nov 2022\"}, \"112324\": {\"product name\": \"clinic plus\", \"quantity\": 300, \"bill generated\": 160, \"purchase date\": \"1 sept 2021\", \"exp date\": \"4 nov 2022\"}, \"112325\": {\"product name\": \"soyabeans\", \"quantity\": 100, \"bill generated\": 90, \"purchase date\": \"1 sept 2021\", \"exp date\": \"4 nov 2022\"}, \"112326\": {\"product name\": \"sompapidi\", \"quantity\": 100, \"bill generated\": 200, \"purchase date\": \"1 sept 2021\", \"exp date\": \"4 nov 2022\"}, \"112327\": {\"product name\": \"Reynold ball pens\", \"quantity\": 100, \"bill generated\": 30, \"purchase date\": \"1 sept 2021\", \"exp date\": \"4 nov 2022\"}, \"112328\": {\"product name\": \"classmate notebooks\", \"quantity\": 100, \"bill generated\": 150, \"purchase date\": \"1 sept 2021\", \"exp date\": \"4 nov 2022\"}, \"112329\": {\"product name\": \"apsara pencil\", \"quantity\": 100, \"bill generated\": 50, \"purchase date\": \"1 sept 2021\", \"exp date\": \"4 nov 2022\"}, \"112330\": {\"product name\": \"camlin sketch pens\", \"quantity\": 100, \"bill generated\": 60, \"purchase date\": \"1 sept 2021\", \"exp date\": \"4 nov 2022\"}}'"
            ]
          },
          "metadata": {},
          "execution_count": 12
        }
      ]
    },
    {
      "cell_type": "code",
      "metadata": {
        "colab": {
          "base_uri": "https://localhost:8080/"
        },
        "id": "HUE06sxi2wBs",
        "outputId": "4cc78bf0-ccb4-490f-8d6c-8d0ed71aad5d"
      },
      "source": [
        "type(js)"
      ],
      "execution_count": 13,
      "outputs": [
        {
          "output_type": "execute_result",
          "data": {
            "text/plain": [
              "str"
            ]
          },
          "metadata": {},
          "execution_count": 13
        }
      ]
    },
    {
      "cell_type": "code",
      "metadata": {
        "id": "dHxxnnQo20JO"
      },
      "source": [
        "fd = open(\"record.json\",'w')\n",
        "fd.write(js)\n",
        "fd.close()"
      ],
      "execution_count": 14,
      "outputs": []
    },
    {
      "cell_type": "code",
      "metadata": {
        "id": "6WbbfM3620Z_"
      },
      "source": [
        "fd = open(\"record.json\",'r')\n",
        "txt = fd.read()\n",
        "fd.close()"
      ],
      "execution_count": 15,
      "outputs": []
    },
    {
      "cell_type": "code",
      "metadata": {
        "colab": {
          "base_uri": "https://localhost:8080/",
          "height": 137
        },
        "id": "jb-ciKJn20mI",
        "outputId": "cadf55e9-3a7d-43e5-aadc-fb0cb5fb3006"
      },
      "source": [
        "txt"
      ],
      "execution_count": 16,
      "outputs": [
        {
          "output_type": "execute_result",
          "data": {
            "application/vnd.google.colaboratory.intrinsic+json": {
              "type": "string"
            },
            "text/plain": [
              "'{\"112301\": {\"product name\": \"meera shampoo\", \"quantity\": 250, \"bill generated\": 80, \"purchase date\": \"1 sept 2021\", \"exp date\": \"4 nov 2022\"}, \"112302\": {\"product name\": \"Bourbon\", \"quantity\": 100, \"bill generated\": 25, \"purchase date\": \"1 sept 2021\", \"exp date\": \"4 nov 2022\"}, \"112303\": {\"product name\": \"hide&seek\", \"quantity\": 100, \"bill generated\": 30, \"purchase date\": \"1 sept 2021\", \"exp date\": \"4 nov 2022\"}, \"112304\": {\"product name\": \"ponds powder\", \"quantity\": 200, \"bill generated\": 180, \"purchase date\": \"1 sept 2021\", \"exp date\": \"12 dec 2022\"}, \"112305\": {\"product name\": \"coconut oil\", \"quantity\": 500, \"bill generated\": 200, \"purchase date\": \"1 sept 2021\", \"exp date\": \"4 nov 2022\"}, \"112306\": {\"product name\": \"dettol\", \"quantity\": 250, \"bill generated\": 300, \"purchase date\": \"1 sept 2021\", \"exp date\": \"4 nov 2022\"}, \"112307\": {\"product name\": \"earphones\", \"quantity\": 100, \"bill generated\": 500, \"purchase date\": \"1 sept 2021\", \"exp date\": \"nil\"}, \"112308\": {\"product name\": \"maggie\", \"quantity\": 100, \"bill generated\": 10, \"purchase date\": \"1 sept 2021\", \"exp date\": \"4 nov 2022\"}, \"112309\": {\"product name\": \"yipee\", \"quantity\": 100, \"bill generated\": 12, \"purchase date\": \"1 sept 2021\", \"exp date\": \"4 nov 2022\"}, \"112310\": {\"product name\": \"fair&lovely\", \"quantity\": 50, \"bill generated\": 100, \"purchase date\": \"1 sept 2021\", \"exp date\": \"4 nov 2022\"}, \"112311\": {\"product name\": \"dark fantasy\", \"quantity\": 100, \"bill generated\": 30, \"purchase date\": \"1 sept 2021\", \"exp date\": \"4 nov 2022\"}, \"112312\": {\"product name\": \"britannia\", \"quantity\": 500, \"bill generated\": 50, \"purchase date\": \"1 sept 2021\", \"exp date\": \"4 nov 2022\"}, \"112313\": {\"product name\": \"moms magic\", \"quantity\": 250, \"bill generated\": 20, \"purchase date\": \"1 sept 2021\", \"exp date\": \"4 nov 2022\"}, \"112314\": {\"product name\": \"goodday\", \"quantity\": 100, \"bill generated\": 30, \"purchase date\": \"1 sept 2021\", \"exp date\": \"4 nov 2022\"}, \"112315\": {\"product name\": \"boost\", \"quantity\": 500, \"bill generated\": 270, \"purchase date\": \"1 sept 2021\", \"exp date\": \"4 nov 2022\"}, \"112316\": {\"product name\": \"complan\", \"quantity\": 500, \"bill generated\": 370, \"purchase date\": \"1 sept 2021\", \"exp date\": \"4 nov 2022\"}, \"112317\": {\"product name\": \"horlicks\", \"quantity\": 500, \"bill generated\": 250, \"purchase date\": \"1 sept 2021\", \"exp date\": \"4 nov 2022\"}, \"112318\": {\"product name\": \"surf excel\", \"quantity\": 500, \"bill generated\": 400, \"purchase date\": \"1 sept 2021\", \"exp date\": \"4 nov 2022\"}, \"112319\": {\"product name\": \"vim liquid\", \"quantity\": 400, \"bill generated\": 80, \"purchase date\": \"1 sept 2021\", \"exp date\": \"4 nov 2022\"}, \"112320\": {\"product name\": \"cinthol soap\", \"quantity\": 100, \"bill generated\": 30, \"purchase date\": \"1 sept 2021\", \"exp date\": \"4 nov 2022\"}, \"112321\": {\"product name\": \"mysore sandal\", \"quantity\": 100, \"bill generated\": 50, \"purchase date\": \"1 sept 2021\", \"exp date\": \"4 nov 2022\"}, \"112322\": {\"product name\": \"lux\", \"quantity\": 100, \"bill generated\": 40, \"purchase date\": \"1 sept 2021\", \"exp date\": \"4 nov 2022\"}, \"112323\": {\"product name\": \"rin soap\", \"quantity\": 100, \"bill generated\": 30, \"purchase date\": \"1 sept 2021\", \"exp date\": \"4 nov 2022\"}, \"112324\": {\"product name\": \"clinic plus\", \"quantity\": 300, \"bill generated\": 160, \"purchase date\": \"1 sept 2021\", \"exp date\": \"4 nov 2022\"}, \"112325\": {\"product name\": \"soyabeans\", \"quantity\": 100, \"bill generated\": 90, \"purchase date\": \"1 sept 2021\", \"exp date\": \"4 nov 2022\"}, \"112326\": {\"product name\": \"sompapidi\", \"quantity\": 100, \"bill generated\": 200, \"purchase date\": \"1 sept 2021\", \"exp date\": \"4 nov 2022\"}, \"112327\": {\"product name\": \"Reynold ball pens\", \"quantity\": 100, \"bill generated\": 30, \"purchase date\": \"1 sept 2021\", \"exp date\": \"4 nov 2022\"}, \"112328\": {\"product name\": \"classmate notebooks\", \"quantity\": 100, \"bill generated\": 150, \"purchase date\": \"1 sept 2021\", \"exp date\": \"4 nov 2022\"}, \"112329\": {\"product name\": \"apsara pencil\", \"quantity\": 100, \"bill generated\": 50, \"purchase date\": \"1 sept 2021\", \"exp date\": \"4 nov 2022\"}, \"112330\": {\"product name\": \"camlin sketch pens\", \"quantity\": 100, \"bill generated\": 60, \"purchase date\": \"1 sept 2021\", \"exp date\": \"4 nov 2022\"}}'"
            ]
          },
          "metadata": {},
          "execution_count": 16
        }
      ]
    },
    {
      "cell_type": "code",
      "metadata": {
        "id": "MAfZzU8820wp"
      },
      "source": [
        "product = json.loads(txt)"
      ],
      "execution_count": 17,
      "outputs": []
    },
    {
      "cell_type": "code",
      "metadata": {
        "id": "FtoBxbb24F4X",
        "colab": {
          "base_uri": "https://localhost:8080/"
        },
        "outputId": "2cf4c3c8-402c-4f62-c02c-aa7a74992096"
      },
      "source": [
        "product"
      ],
      "execution_count": 18,
      "outputs": [
        {
          "output_type": "execute_result",
          "data": {
            "text/plain": [
              "{'112301': {'bill generated': 80,\n",
              "  'exp date': '4 nov 2022',\n",
              "  'product name': 'meera shampoo',\n",
              "  'purchase date': '1 sept 2021',\n",
              "  'quantity': 250},\n",
              " '112302': {'bill generated': 25,\n",
              "  'exp date': '4 nov 2022',\n",
              "  'product name': 'Bourbon',\n",
              "  'purchase date': '1 sept 2021',\n",
              "  'quantity': 100},\n",
              " '112303': {'bill generated': 30,\n",
              "  'exp date': '4 nov 2022',\n",
              "  'product name': 'hide&seek',\n",
              "  'purchase date': '1 sept 2021',\n",
              "  'quantity': 100},\n",
              " '112304': {'bill generated': 180,\n",
              "  'exp date': '12 dec 2022',\n",
              "  'product name': 'ponds powder',\n",
              "  'purchase date': '1 sept 2021',\n",
              "  'quantity': 200},\n",
              " '112305': {'bill generated': 200,\n",
              "  'exp date': '4 nov 2022',\n",
              "  'product name': 'coconut oil',\n",
              "  'purchase date': '1 sept 2021',\n",
              "  'quantity': 500},\n",
              " '112306': {'bill generated': 300,\n",
              "  'exp date': '4 nov 2022',\n",
              "  'product name': 'dettol',\n",
              "  'purchase date': '1 sept 2021',\n",
              "  'quantity': 250},\n",
              " '112307': {'bill generated': 500,\n",
              "  'exp date': 'nil',\n",
              "  'product name': 'earphones',\n",
              "  'purchase date': '1 sept 2021',\n",
              "  'quantity': 100},\n",
              " '112308': {'bill generated': 10,\n",
              "  'exp date': '4 nov 2022',\n",
              "  'product name': 'maggie',\n",
              "  'purchase date': '1 sept 2021',\n",
              "  'quantity': 100},\n",
              " '112309': {'bill generated': 12,\n",
              "  'exp date': '4 nov 2022',\n",
              "  'product name': 'yipee',\n",
              "  'purchase date': '1 sept 2021',\n",
              "  'quantity': 100},\n",
              " '112310': {'bill generated': 100,\n",
              "  'exp date': '4 nov 2022',\n",
              "  'product name': 'fair&lovely',\n",
              "  'purchase date': '1 sept 2021',\n",
              "  'quantity': 50},\n",
              " '112311': {'bill generated': 30,\n",
              "  'exp date': '4 nov 2022',\n",
              "  'product name': 'dark fantasy',\n",
              "  'purchase date': '1 sept 2021',\n",
              "  'quantity': 100},\n",
              " '112312': {'bill generated': 50,\n",
              "  'exp date': '4 nov 2022',\n",
              "  'product name': 'britannia',\n",
              "  'purchase date': '1 sept 2021',\n",
              "  'quantity': 500},\n",
              " '112313': {'bill generated': 20,\n",
              "  'exp date': '4 nov 2022',\n",
              "  'product name': 'moms magic',\n",
              "  'purchase date': '1 sept 2021',\n",
              "  'quantity': 250},\n",
              " '112314': {'bill generated': 30,\n",
              "  'exp date': '4 nov 2022',\n",
              "  'product name': 'goodday',\n",
              "  'purchase date': '1 sept 2021',\n",
              "  'quantity': 100},\n",
              " '112315': {'bill generated': 270,\n",
              "  'exp date': '4 nov 2022',\n",
              "  'product name': 'boost',\n",
              "  'purchase date': '1 sept 2021',\n",
              "  'quantity': 500},\n",
              " '112316': {'bill generated': 370,\n",
              "  'exp date': '4 nov 2022',\n",
              "  'product name': 'complan',\n",
              "  'purchase date': '1 sept 2021',\n",
              "  'quantity': 500},\n",
              " '112317': {'bill generated': 250,\n",
              "  'exp date': '4 nov 2022',\n",
              "  'product name': 'horlicks',\n",
              "  'purchase date': '1 sept 2021',\n",
              "  'quantity': 500},\n",
              " '112318': {'bill generated': 400,\n",
              "  'exp date': '4 nov 2022',\n",
              "  'product name': 'surf excel',\n",
              "  'purchase date': '1 sept 2021',\n",
              "  'quantity': 500},\n",
              " '112319': {'bill generated': 80,\n",
              "  'exp date': '4 nov 2022',\n",
              "  'product name': 'vim liquid',\n",
              "  'purchase date': '1 sept 2021',\n",
              "  'quantity': 400},\n",
              " '112320': {'bill generated': 30,\n",
              "  'exp date': '4 nov 2022',\n",
              "  'product name': 'cinthol soap',\n",
              "  'purchase date': '1 sept 2021',\n",
              "  'quantity': 100},\n",
              " '112321': {'bill generated': 50,\n",
              "  'exp date': '4 nov 2022',\n",
              "  'product name': 'mysore sandal',\n",
              "  'purchase date': '1 sept 2021',\n",
              "  'quantity': 100},\n",
              " '112322': {'bill generated': 40,\n",
              "  'exp date': '4 nov 2022',\n",
              "  'product name': 'lux',\n",
              "  'purchase date': '1 sept 2021',\n",
              "  'quantity': 100},\n",
              " '112323': {'bill generated': 30,\n",
              "  'exp date': '4 nov 2022',\n",
              "  'product name': 'rin soap',\n",
              "  'purchase date': '1 sept 2021',\n",
              "  'quantity': 100},\n",
              " '112324': {'bill generated': 160,\n",
              "  'exp date': '4 nov 2022',\n",
              "  'product name': 'clinic plus',\n",
              "  'purchase date': '1 sept 2021',\n",
              "  'quantity': 300},\n",
              " '112325': {'bill generated': 90,\n",
              "  'exp date': '4 nov 2022',\n",
              "  'product name': 'soyabeans',\n",
              "  'purchase date': '1 sept 2021',\n",
              "  'quantity': 100},\n",
              " '112326': {'bill generated': 200,\n",
              "  'exp date': '4 nov 2022',\n",
              "  'product name': 'sompapidi',\n",
              "  'purchase date': '1 sept 2021',\n",
              "  'quantity': 100},\n",
              " '112327': {'bill generated': 30,\n",
              "  'exp date': '4 nov 2022',\n",
              "  'product name': 'Reynold ball pens',\n",
              "  'purchase date': '1 sept 2021',\n",
              "  'quantity': 100},\n",
              " '112328': {'bill generated': 150,\n",
              "  'exp date': '4 nov 2022',\n",
              "  'product name': 'classmate notebooks',\n",
              "  'purchase date': '1 sept 2021',\n",
              "  'quantity': 100},\n",
              " '112329': {'bill generated': 50,\n",
              "  'exp date': '4 nov 2022',\n",
              "  'product name': 'apsara pencil',\n",
              "  'purchase date': '1 sept 2021',\n",
              "  'quantity': 100},\n",
              " '112330': {'bill generated': 60,\n",
              "  'exp date': '4 nov 2022',\n",
              "  'product name': 'camlin sketch pens',\n",
              "  'purchase date': '1 sept 2021',\n",
              "  'quantity': 100}}"
            ]
          },
          "metadata": {},
          "execution_count": 18
        }
      ]
    },
    {
      "cell_type": "code",
      "metadata": {
        "id": "UGBDfk5L4GBm",
        "colab": {
          "base_uri": "https://localhost:8080/"
        },
        "outputId": "9f20bafb-856e-4954-e3ef-f9c18dfe7c23"
      },
      "source": [
        "prod_id = str(input(\"Enter product id :\"))\n",
        "product_name = str(input(\"Enter name:\"))\n",
        "quantity = int(input(\"Enter quantity:\"))\n",
        "bill_generated = int(input(\"Enter price:\"))\n",
        "purchase_date = str(input('Enter purchase date:'))\n",
        "exp_date = str(input('Enter exp date:'))\n"
      ],
      "execution_count": 23,
      "outputs": [
        {
          "name": "stdout",
          "output_type": "stream",
          "text": [
            "Enter product id :112331\n",
            "Enter name:iphone\n",
            "Enter quantity:10\n",
            "Enter price:50000\n",
            "Enter purchase date:3rd sept 2021\n",
            "Enter exp date:5th nov 2030\n"
          ]
        }
      ]
    },
    {
      "cell_type": "code",
      "metadata": {
        "id": "7X6898x64GIN",
        "colab": {
          "base_uri": "https://localhost:8080/"
        },
        "outputId": "a97f8644-1086-45da-bb6e-53c636a84651"
      },
      "source": [
        "{prod_id : {'product name' : product_name, 'quantity' : quantity, 'bill generated' : bill_generated, 'purchase date' : purchase_date, 'exp date' : exp_date }}"
      ],
      "execution_count": 24,
      "outputs": [
        {
          "output_type": "execute_result",
          "data": {
            "text/plain": [
              "{'112331': {'bill generated': 50000,\n",
              "  'exp date': '5th nov 2030',\n",
              "  'product name': 'iphone',\n",
              "  'purchase date': '3rd sept 2021',\n",
              "  'quantity': 10}}"
            ]
          },
          "metadata": {},
          "execution_count": 24
        }
      ]
    },
    {
      "cell_type": "code",
      "metadata": {
        "id": "YWJcKKNG4GNn"
      },
      "source": [
        "product[prod_id] =  {'product name' : product_name, 'quantity' : quantity, 'bill generated' : bill_generated, 'purchase date' : purchase_date, 'exp date' : exp_date }"
      ],
      "execution_count": 27,
      "outputs": []
    },
    {
      "cell_type": "code",
      "metadata": {
        "id": "-5yrPQAg4GPs",
        "colab": {
          "base_uri": "https://localhost:8080/"
        },
        "outputId": "e02bc55c-3030-4b43-d963-b159d4a3efb1"
      },
      "source": [
        "product"
      ],
      "execution_count": 28,
      "outputs": [
        {
          "output_type": "execute_result",
          "data": {
            "text/plain": [
              "{'112301': {'bill generated': 80,\n",
              "  'exp date': '4 nov 2022',\n",
              "  'product name': 'meera shampoo',\n",
              "  'purchase date': '1 sept 2021',\n",
              "  'quantity': 250},\n",
              " '112302': {'bill generated': 25,\n",
              "  'exp date': '4 nov 2022',\n",
              "  'product name': 'Bourbon',\n",
              "  'purchase date': '1 sept 2021',\n",
              "  'quantity': 100},\n",
              " '112303': {'bill generated': 30,\n",
              "  'exp date': '4 nov 2022',\n",
              "  'product name': 'hide&seek',\n",
              "  'purchase date': '1 sept 2021',\n",
              "  'quantity': 100},\n",
              " '112304': {'bill generated': 180,\n",
              "  'exp date': '12 dec 2022',\n",
              "  'product name': 'ponds powder',\n",
              "  'purchase date': '1 sept 2021',\n",
              "  'quantity': 200},\n",
              " '112305': {'bill generated': 200,\n",
              "  'exp date': '4 nov 2022',\n",
              "  'product name': 'coconut oil',\n",
              "  'purchase date': '1 sept 2021',\n",
              "  'quantity': 500},\n",
              " '112306': {'bill generated': 300,\n",
              "  'exp date': '4 nov 2022',\n",
              "  'product name': 'dettol',\n",
              "  'purchase date': '1 sept 2021',\n",
              "  'quantity': 250},\n",
              " '112307': {'bill generated': 500,\n",
              "  'exp date': 'nil',\n",
              "  'product name': 'earphones',\n",
              "  'purchase date': '1 sept 2021',\n",
              "  'quantity': 100},\n",
              " '112308': {'bill generated': 10,\n",
              "  'exp date': '4 nov 2022',\n",
              "  'product name': 'maggie',\n",
              "  'purchase date': '1 sept 2021',\n",
              "  'quantity': 100},\n",
              " '112309': {'bill generated': 12,\n",
              "  'exp date': '4 nov 2022',\n",
              "  'product name': 'yipee',\n",
              "  'purchase date': '1 sept 2021',\n",
              "  'quantity': 100},\n",
              " '112310': {'bill generated': 100,\n",
              "  'exp date': '4 nov 2022',\n",
              "  'product name': 'fair&lovely',\n",
              "  'purchase date': '1 sept 2021',\n",
              "  'quantity': 50},\n",
              " '112311': {'bill generated': 30,\n",
              "  'exp date': '4 nov 2022',\n",
              "  'product name': 'dark fantasy',\n",
              "  'purchase date': '1 sept 2021',\n",
              "  'quantity': 100},\n",
              " '112312': {'bill generated': 50,\n",
              "  'exp date': '4 nov 2022',\n",
              "  'product name': 'britannia',\n",
              "  'purchase date': '1 sept 2021',\n",
              "  'quantity': 500},\n",
              " '112313': {'bill generated': 20,\n",
              "  'exp date': '4 nov 2022',\n",
              "  'product name': 'moms magic',\n",
              "  'purchase date': '1 sept 2021',\n",
              "  'quantity': 250},\n",
              " '112314': {'bill generated': 30,\n",
              "  'exp date': '4 nov 2022',\n",
              "  'product name': 'goodday',\n",
              "  'purchase date': '1 sept 2021',\n",
              "  'quantity': 100},\n",
              " '112315': {'bill generated': 270,\n",
              "  'exp date': '4 nov 2022',\n",
              "  'product name': 'boost',\n",
              "  'purchase date': '1 sept 2021',\n",
              "  'quantity': 500},\n",
              " '112316': {'bill generated': 370,\n",
              "  'exp date': '4 nov 2022',\n",
              "  'product name': 'complan',\n",
              "  'purchase date': '1 sept 2021',\n",
              "  'quantity': 500},\n",
              " '112317': {'bill generated': 250,\n",
              "  'exp date': '4 nov 2022',\n",
              "  'product name': 'horlicks',\n",
              "  'purchase date': '1 sept 2021',\n",
              "  'quantity': 500},\n",
              " '112318': {'bill generated': 400,\n",
              "  'exp date': '4 nov 2022',\n",
              "  'product name': 'surf excel',\n",
              "  'purchase date': '1 sept 2021',\n",
              "  'quantity': 500},\n",
              " '112319': {'bill generated': 80,\n",
              "  'exp date': '4 nov 2022',\n",
              "  'product name': 'vim liquid',\n",
              "  'purchase date': '1 sept 2021',\n",
              "  'quantity': 400},\n",
              " '112320': {'bill generated': 30,\n",
              "  'exp date': '4 nov 2022',\n",
              "  'product name': 'cinthol soap',\n",
              "  'purchase date': '1 sept 2021',\n",
              "  'quantity': 100},\n",
              " '112321': {'bill generated': 50,\n",
              "  'exp date': '4 nov 2022',\n",
              "  'product name': 'mysore sandal',\n",
              "  'purchase date': '1 sept 2021',\n",
              "  'quantity': 100},\n",
              " '112322': {'bill generated': 40,\n",
              "  'exp date': '4 nov 2022',\n",
              "  'product name': 'lux',\n",
              "  'purchase date': '1 sept 2021',\n",
              "  'quantity': 100},\n",
              " '112323': {'bill generated': 30,\n",
              "  'exp date': '4 nov 2022',\n",
              "  'product name': 'rin soap',\n",
              "  'purchase date': '1 sept 2021',\n",
              "  'quantity': 100},\n",
              " '112324': {'bill generated': 160,\n",
              "  'exp date': '4 nov 2022',\n",
              "  'product name': 'clinic plus',\n",
              "  'purchase date': '1 sept 2021',\n",
              "  'quantity': 300},\n",
              " '112325': {'bill generated': 90,\n",
              "  'exp date': '4 nov 2022',\n",
              "  'product name': 'soyabeans',\n",
              "  'purchase date': '1 sept 2021',\n",
              "  'quantity': 100},\n",
              " '112326': {'bill generated': 200,\n",
              "  'exp date': '4 nov 2022',\n",
              "  'product name': 'sompapidi',\n",
              "  'purchase date': '1 sept 2021',\n",
              "  'quantity': 100},\n",
              " '112327': {'bill generated': 30,\n",
              "  'exp date': '4 nov 2022',\n",
              "  'product name': 'Reynold ball pens',\n",
              "  'purchase date': '1 sept 2021',\n",
              "  'quantity': 100},\n",
              " '112328': {'bill generated': 150,\n",
              "  'exp date': '4 nov 2022',\n",
              "  'product name': 'classmate notebooks',\n",
              "  'purchase date': '1 sept 2021',\n",
              "  'quantity': 100},\n",
              " '112329': {'bill generated': 50,\n",
              "  'exp date': '4 nov 2022',\n",
              "  'product name': 'apsara pencil',\n",
              "  'purchase date': '1 sept 2021',\n",
              "  'quantity': 100},\n",
              " '112330': {'bill generated': 60,\n",
              "  'exp date': '4 nov 2022',\n",
              "  'product name': 'camlin sketch pens',\n",
              "  'purchase date': '1 sept 2021',\n",
              "  'quantity': 100},\n",
              " '112331': {'bill generated': 50000,\n",
              "  'exp date': '5th nov 2030',\n",
              "  'product name': 'iphone',\n",
              "  'purchase date': '3rd sept 2021',\n",
              "  'quantity': 10}}"
            ]
          },
          "metadata": {},
          "execution_count": 28
        }
      ]
    },
    {
      "cell_type": "code",
      "metadata": {
        "colab": {
          "base_uri": "https://localhost:8080/"
        },
        "id": "UicDoKqYWxH1",
        "outputId": "9fc6f540-1f84-4a8e-eafa-afec2a37aa10"
      },
      "source": [
        "prod_id = str(input(\"Enter product id :\"))\n",
        "product_name = str(input(\"Enter name:\"))\n",
        "quantity = int(input(\"Enter quantity:\"))\n",
        "bill_generated = int(input(\"Enter price:\"))\n",
        "purchase_date = str(input('Enter purchase date:'))\n",
        "exp_date = str(input('Enter exp date:'))\n",
        "\n",
        "product[prod_id] =  {'product name' : product_name, 'quantity' : quantity, 'bill generated' : bill_generated, 'purchase date' : purchase_date, 'exp date' : exp_date }\n"
      ],
      "execution_count": 31,
      "outputs": [
        {
          "name": "stdout",
          "output_type": "stream",
          "text": [
            "Enter product id :112331\n",
            "Enter name:iphone\n",
            "Enter quantity:50\n",
            "Enter price:50000\n",
            "Enter purchase date:3rd sept 2021\n",
            "Enter exp date:5th nov 2030\n"
          ]
        }
      ]
    },
    {
      "cell_type": "code",
      "metadata": {
        "colab": {
          "base_uri": "https://localhost:8080/"
        },
        "id": "SkqDxDXfWxYj",
        "outputId": "17e55ec1-12e4-4297-aa83-0b6938af8367"
      },
      "source": [
        "product"
      ],
      "execution_count": 32,
      "outputs": [
        {
          "output_type": "execute_result",
          "data": {
            "text/plain": [
              "{'112301': {'bill generated': 80,\n",
              "  'exp date': '4 nov 2022',\n",
              "  'product name': 'meera shampoo',\n",
              "  'purchase date': '1 sept 2021',\n",
              "  'quantity': 250},\n",
              " '112302': {'bill generated': 25,\n",
              "  'exp date': '4 nov 2022',\n",
              "  'product name': 'Bourbon',\n",
              "  'purchase date': '1 sept 2021',\n",
              "  'quantity': 100},\n",
              " '112303': {'bill generated': 30,\n",
              "  'exp date': '4 nov 2022',\n",
              "  'product name': 'hide&seek',\n",
              "  'purchase date': '1 sept 2021',\n",
              "  'quantity': 100},\n",
              " '112304': {'bill generated': 180,\n",
              "  'exp date': '12 dec 2022',\n",
              "  'product name': 'ponds powder',\n",
              "  'purchase date': '1 sept 2021',\n",
              "  'quantity': 200},\n",
              " '112305': {'bill generated': 200,\n",
              "  'exp date': '4 nov 2022',\n",
              "  'product name': 'coconut oil',\n",
              "  'purchase date': '1 sept 2021',\n",
              "  'quantity': 500},\n",
              " '112306': {'bill generated': 300,\n",
              "  'exp date': '4 nov 2022',\n",
              "  'product name': 'dettol',\n",
              "  'purchase date': '1 sept 2021',\n",
              "  'quantity': 250},\n",
              " '112307': {'bill generated': 500,\n",
              "  'exp date': 'nil',\n",
              "  'product name': 'earphones',\n",
              "  'purchase date': '1 sept 2021',\n",
              "  'quantity': 100},\n",
              " '112308': {'bill generated': 10,\n",
              "  'exp date': '4 nov 2022',\n",
              "  'product name': 'maggie',\n",
              "  'purchase date': '1 sept 2021',\n",
              "  'quantity': 100},\n",
              " '112309': {'bill generated': 12,\n",
              "  'exp date': '4 nov 2022',\n",
              "  'product name': 'yipee',\n",
              "  'purchase date': '1 sept 2021',\n",
              "  'quantity': 100},\n",
              " '112310': {'bill generated': 100,\n",
              "  'exp date': '4 nov 2022',\n",
              "  'product name': 'fair&lovely',\n",
              "  'purchase date': '1 sept 2021',\n",
              "  'quantity': 50},\n",
              " '112311': {'bill generated': 30,\n",
              "  'exp date': '4 nov 2022',\n",
              "  'product name': 'dark fantasy',\n",
              "  'purchase date': '1 sept 2021',\n",
              "  'quantity': 100},\n",
              " '112312': {'bill generated': 50,\n",
              "  'exp date': '4 nov 2022',\n",
              "  'product name': 'britannia',\n",
              "  'purchase date': '1 sept 2021',\n",
              "  'quantity': 500},\n",
              " '112313': {'bill generated': 20,\n",
              "  'exp date': '4 nov 2022',\n",
              "  'product name': 'moms magic',\n",
              "  'purchase date': '1 sept 2021',\n",
              "  'quantity': 250},\n",
              " '112314': {'bill generated': 30,\n",
              "  'exp date': '4 nov 2022',\n",
              "  'product name': 'goodday',\n",
              "  'purchase date': '1 sept 2021',\n",
              "  'quantity': 100},\n",
              " '112315': {'bill generated': 270,\n",
              "  'exp date': '4 nov 2022',\n",
              "  'product name': 'boost',\n",
              "  'purchase date': '1 sept 2021',\n",
              "  'quantity': 500},\n",
              " '112316': {'bill generated': 370,\n",
              "  'exp date': '4 nov 2022',\n",
              "  'product name': 'complan',\n",
              "  'purchase date': '1 sept 2021',\n",
              "  'quantity': 500},\n",
              " '112317': {'bill generated': 250,\n",
              "  'exp date': '4 nov 2022',\n",
              "  'product name': 'horlicks',\n",
              "  'purchase date': '1 sept 2021',\n",
              "  'quantity': 500},\n",
              " '112318': {'bill generated': 400,\n",
              "  'exp date': '4 nov 2022',\n",
              "  'product name': 'surf excel',\n",
              "  'purchase date': '1 sept 2021',\n",
              "  'quantity': 500},\n",
              " '112319': {'bill generated': 80,\n",
              "  'exp date': '4 nov 2022',\n",
              "  'product name': 'vim liquid',\n",
              "  'purchase date': '1 sept 2021',\n",
              "  'quantity': 400},\n",
              " '112320': {'bill generated': 30,\n",
              "  'exp date': '4 nov 2022',\n",
              "  'product name': 'cinthol soap',\n",
              "  'purchase date': '1 sept 2021',\n",
              "  'quantity': 100},\n",
              " '112321': {'bill generated': 50,\n",
              "  'exp date': '4 nov 2022',\n",
              "  'product name': 'mysore sandal',\n",
              "  'purchase date': '1 sept 2021',\n",
              "  'quantity': 100},\n",
              " '112322': {'bill generated': 40,\n",
              "  'exp date': '4 nov 2022',\n",
              "  'product name': 'lux',\n",
              "  'purchase date': '1 sept 2021',\n",
              "  'quantity': 100},\n",
              " '112323': {'bill generated': 30,\n",
              "  'exp date': '4 nov 2022',\n",
              "  'product name': 'rin soap',\n",
              "  'purchase date': '1 sept 2021',\n",
              "  'quantity': 100},\n",
              " '112324': {'bill generated': 160,\n",
              "  'exp date': '4 nov 2022',\n",
              "  'product name': 'clinic plus',\n",
              "  'purchase date': '1 sept 2021',\n",
              "  'quantity': 300},\n",
              " '112325': {'bill generated': 90,\n",
              "  'exp date': '4 nov 2022',\n",
              "  'product name': 'soyabeans',\n",
              "  'purchase date': '1 sept 2021',\n",
              "  'quantity': 100},\n",
              " '112326': {'bill generated': 200,\n",
              "  'exp date': '4 nov 2022',\n",
              "  'product name': 'sompapidi',\n",
              "  'purchase date': '1 sept 2021',\n",
              "  'quantity': 100},\n",
              " '112327': {'bill generated': 30,\n",
              "  'exp date': '4 nov 2022',\n",
              "  'product name': 'Reynold ball pens',\n",
              "  'purchase date': '1 sept 2021',\n",
              "  'quantity': 100},\n",
              " '112328': {'bill generated': 150,\n",
              "  'exp date': '4 nov 2022',\n",
              "  'product name': 'classmate notebooks',\n",
              "  'purchase date': '1 sept 2021',\n",
              "  'quantity': 100},\n",
              " '112329': {'bill generated': 50,\n",
              "  'exp date': '4 nov 2022',\n",
              "  'product name': 'apsara pencil',\n",
              "  'purchase date': '1 sept 2021',\n",
              "  'quantity': 100},\n",
              " '112330': {'bill generated': 60,\n",
              "  'exp date': '4 nov 2022',\n",
              "  'product name': 'camlin sketch pens',\n",
              "  'purchase date': '1 sept 2021',\n",
              "  'quantity': 100},\n",
              " '112331': {'bill generated': 50000,\n",
              "  'exp date': '5th nov 2030',\n",
              "  'product name': 'iphone',\n",
              "  'purchase date': '3rd sept 2021',\n",
              "  'quantity': 50}}"
            ]
          },
          "metadata": {},
          "execution_count": 32
        }
      ]
    },
    {
      "cell_type": "code",
      "metadata": {
        "colab": {
          "base_uri": "https://localhost:8080/"
        },
        "id": "9YnVxewJWxg6",
        "outputId": "e0244da2-0cf8-4b5b-8c2b-89234b0c9d16"
      },
      "source": [
        "prod_id = str(input(\"Enter product id :\"))\n",
        "product_name = str(input(\"Enter name:\"))\n",
        "quantity = int(input(\"Enter quantity:\"))\n",
        "bill_generated = int(input(\"Enter price:\"))\n",
        "purchase_date = str(input('Enter purchase date:'))\n",
        "exp_date = str(input('Enter exp date:'))\n",
        "\n",
        "product[prod_id] =  {'product name' : product_name, 'quantity' : quantity, 'bill generated' : bill_generated, 'purchase date' : purchase_date, 'exp date' : exp_date }\n",
        "js = json.dumps(product)\n",
        "\n",
        "fd = open('record.json', 'w')\n",
        "fd.write(js)\n",
        "fd.close()"
      ],
      "execution_count": 33,
      "outputs": [
        {
          "name": "stdout",
          "output_type": "stream",
          "text": [
            "Enter product id :112332\n",
            "Enter name:mic\n",
            "Enter quantity:15\n",
            "Enter price:1500\n",
            "Enter purchase date:3rd sept 2021\n",
            "Enter exp date:5th nov 2030\n"
          ]
        }
      ]
    },
    {
      "cell_type": "code",
      "metadata": {
        "colab": {
          "base_uri": "https://localhost:8080/"
        },
        "id": "GuKEdEoPWxsb",
        "outputId": "c7267726-2ff9-4fe6-c612-668945f7cb6c"
      },
      "source": [
        "product"
      ],
      "execution_count": 34,
      "outputs": [
        {
          "output_type": "execute_result",
          "data": {
            "text/plain": [
              "{'112301': {'bill generated': 80,\n",
              "  'exp date': '4 nov 2022',\n",
              "  'product name': 'meera shampoo',\n",
              "  'purchase date': '1 sept 2021',\n",
              "  'quantity': 250},\n",
              " '112302': {'bill generated': 25,\n",
              "  'exp date': '4 nov 2022',\n",
              "  'product name': 'Bourbon',\n",
              "  'purchase date': '1 sept 2021',\n",
              "  'quantity': 100},\n",
              " '112303': {'bill generated': 30,\n",
              "  'exp date': '4 nov 2022',\n",
              "  'product name': 'hide&seek',\n",
              "  'purchase date': '1 sept 2021',\n",
              "  'quantity': 100},\n",
              " '112304': {'bill generated': 180,\n",
              "  'exp date': '12 dec 2022',\n",
              "  'product name': 'ponds powder',\n",
              "  'purchase date': '1 sept 2021',\n",
              "  'quantity': 200},\n",
              " '112305': {'bill generated': 200,\n",
              "  'exp date': '4 nov 2022',\n",
              "  'product name': 'coconut oil',\n",
              "  'purchase date': '1 sept 2021',\n",
              "  'quantity': 500},\n",
              " '112306': {'bill generated': 300,\n",
              "  'exp date': '4 nov 2022',\n",
              "  'product name': 'dettol',\n",
              "  'purchase date': '1 sept 2021',\n",
              "  'quantity': 250},\n",
              " '112307': {'bill generated': 500,\n",
              "  'exp date': 'nil',\n",
              "  'product name': 'earphones',\n",
              "  'purchase date': '1 sept 2021',\n",
              "  'quantity': 100},\n",
              " '112308': {'bill generated': 10,\n",
              "  'exp date': '4 nov 2022',\n",
              "  'product name': 'maggie',\n",
              "  'purchase date': '1 sept 2021',\n",
              "  'quantity': 100},\n",
              " '112309': {'bill generated': 12,\n",
              "  'exp date': '4 nov 2022',\n",
              "  'product name': 'yipee',\n",
              "  'purchase date': '1 sept 2021',\n",
              "  'quantity': 100},\n",
              " '112310': {'bill generated': 100,\n",
              "  'exp date': '4 nov 2022',\n",
              "  'product name': 'fair&lovely',\n",
              "  'purchase date': '1 sept 2021',\n",
              "  'quantity': 50},\n",
              " '112311': {'bill generated': 30,\n",
              "  'exp date': '4 nov 2022',\n",
              "  'product name': 'dark fantasy',\n",
              "  'purchase date': '1 sept 2021',\n",
              "  'quantity': 100},\n",
              " '112312': {'bill generated': 50,\n",
              "  'exp date': '4 nov 2022',\n",
              "  'product name': 'britannia',\n",
              "  'purchase date': '1 sept 2021',\n",
              "  'quantity': 500},\n",
              " '112313': {'bill generated': 20,\n",
              "  'exp date': '4 nov 2022',\n",
              "  'product name': 'moms magic',\n",
              "  'purchase date': '1 sept 2021',\n",
              "  'quantity': 250},\n",
              " '112314': {'bill generated': 30,\n",
              "  'exp date': '4 nov 2022',\n",
              "  'product name': 'goodday',\n",
              "  'purchase date': '1 sept 2021',\n",
              "  'quantity': 100},\n",
              " '112315': {'bill generated': 270,\n",
              "  'exp date': '4 nov 2022',\n",
              "  'product name': 'boost',\n",
              "  'purchase date': '1 sept 2021',\n",
              "  'quantity': 500},\n",
              " '112316': {'bill generated': 370,\n",
              "  'exp date': '4 nov 2022',\n",
              "  'product name': 'complan',\n",
              "  'purchase date': '1 sept 2021',\n",
              "  'quantity': 500},\n",
              " '112317': {'bill generated': 250,\n",
              "  'exp date': '4 nov 2022',\n",
              "  'product name': 'horlicks',\n",
              "  'purchase date': '1 sept 2021',\n",
              "  'quantity': 500},\n",
              " '112318': {'bill generated': 400,\n",
              "  'exp date': '4 nov 2022',\n",
              "  'product name': 'surf excel',\n",
              "  'purchase date': '1 sept 2021',\n",
              "  'quantity': 500},\n",
              " '112319': {'bill generated': 80,\n",
              "  'exp date': '4 nov 2022',\n",
              "  'product name': 'vim liquid',\n",
              "  'purchase date': '1 sept 2021',\n",
              "  'quantity': 400},\n",
              " '112320': {'bill generated': 30,\n",
              "  'exp date': '4 nov 2022',\n",
              "  'product name': 'cinthol soap',\n",
              "  'purchase date': '1 sept 2021',\n",
              "  'quantity': 100},\n",
              " '112321': {'bill generated': 50,\n",
              "  'exp date': '4 nov 2022',\n",
              "  'product name': 'mysore sandal',\n",
              "  'purchase date': '1 sept 2021',\n",
              "  'quantity': 100},\n",
              " '112322': {'bill generated': 40,\n",
              "  'exp date': '4 nov 2022',\n",
              "  'product name': 'lux',\n",
              "  'purchase date': '1 sept 2021',\n",
              "  'quantity': 100},\n",
              " '112323': {'bill generated': 30,\n",
              "  'exp date': '4 nov 2022',\n",
              "  'product name': 'rin soap',\n",
              "  'purchase date': '1 sept 2021',\n",
              "  'quantity': 100},\n",
              " '112324': {'bill generated': 160,\n",
              "  'exp date': '4 nov 2022',\n",
              "  'product name': 'clinic plus',\n",
              "  'purchase date': '1 sept 2021',\n",
              "  'quantity': 300},\n",
              " '112325': {'bill generated': 90,\n",
              "  'exp date': '4 nov 2022',\n",
              "  'product name': 'soyabeans',\n",
              "  'purchase date': '1 sept 2021',\n",
              "  'quantity': 100},\n",
              " '112326': {'bill generated': 200,\n",
              "  'exp date': '4 nov 2022',\n",
              "  'product name': 'sompapidi',\n",
              "  'purchase date': '1 sept 2021',\n",
              "  'quantity': 100},\n",
              " '112327': {'bill generated': 30,\n",
              "  'exp date': '4 nov 2022',\n",
              "  'product name': 'Reynold ball pens',\n",
              "  'purchase date': '1 sept 2021',\n",
              "  'quantity': 100},\n",
              " '112328': {'bill generated': 150,\n",
              "  'exp date': '4 nov 2022',\n",
              "  'product name': 'classmate notebooks',\n",
              "  'purchase date': '1 sept 2021',\n",
              "  'quantity': 100},\n",
              " '112329': {'bill generated': 50,\n",
              "  'exp date': '4 nov 2022',\n",
              "  'product name': 'apsara pencil',\n",
              "  'purchase date': '1 sept 2021',\n",
              "  'quantity': 100},\n",
              " '112330': {'bill generated': 60,\n",
              "  'exp date': '4 nov 2022',\n",
              "  'product name': 'camlin sketch pens',\n",
              "  'purchase date': '1 sept 2021',\n",
              "  'quantity': 100},\n",
              " '112331': {'bill generated': 50000,\n",
              "  'exp date': '5th nov 2030',\n",
              "  'product name': 'iphone',\n",
              "  'purchase date': '3rd sept 2021',\n",
              "  'quantity': 50},\n",
              " '112332': {'bill generated': 1500,\n",
              "  'exp date': '5th nov 2030',\n",
              "  'product name': 'mic',\n",
              "  'purchase date': '3rd sept 2021',\n",
              "  'quantity': 15}}"
            ]
          },
          "metadata": {},
          "execution_count": 34
        }
      ]
    },
    {
      "cell_type": "markdown",
      "metadata": {
        "id": "ifq-wj3mh9oG"
      },
      "source": [
        "#purchase"
      ]
    },
    {
      "cell_type": "code",
      "metadata": {
        "colab": {
          "base_uri": "https://localhost:8080/"
        },
        "id": "NukfbH4joYqk",
        "outputId": "0db1d7b4-2870-40ba-98a5-0be8fdfc06be"
      },
      "source": [
        "ui_prod = str(input('Enter the product_id : '))\n",
        "ui_quant = int(input('Enter the quantity: '))\n",
        "\n",
        "print('product:', product[ui_prod]['product name'])\n",
        "print('price:', product[ui_prod]['bill generated'])\n",
        "print('Billing amount:', product[ui_prod]['bill generated'] * ui_quant)\n",
        "\n",
        "product[ui_prod]['quantity'] = product[ui_prod]['quantity'] - ui_quant"
      ],
      "execution_count": 138,
      "outputs": [
        {
          "output_type": "stream",
          "name": "stdout",
          "text": [
            "Enter the product_id : 112326\n",
            "Enter the quantity: 25\n",
            "product: sompapidi\n",
            "price: 200\n",
            "Billing amount: 5000\n"
          ]
        }
      ]
    },
    {
      "cell_type": "code",
      "metadata": {
        "colab": {
          "base_uri": "https://localhost:8080/"
        },
        "id": "qwRMdApFWx3e",
        "outputId": "d8c04106-eef0-48e3-c628-8d2f1b17859c"
      },
      "source": [
        "product"
      ],
      "execution_count": 149,
      "outputs": [
        {
          "output_type": "execute_result",
          "data": {
            "text/plain": [
              "{'112301': {'bill generated': 80,\n",
              "  'exp date': '4 nov 2022',\n",
              "  'product name': 'meera shampoo',\n",
              "  'purchase date': '1 sept 2021',\n",
              "  'quantity': 240},\n",
              " '112302': {'bill generated': 25,\n",
              "  'exp date': '4 nov 2022',\n",
              "  'product name': 'Bourbon',\n",
              "  'purchase date': '1 sept 2021',\n",
              "  'quantity': 80},\n",
              " '112303': {'bill generated': 30,\n",
              "  'exp date': '4 nov 2022',\n",
              "  'product name': 'hide&seek',\n",
              "  'purchase date': '1 sept 2021',\n",
              "  'quantity': 75},\n",
              " '112304': {'bill generated': 180,\n",
              "  'exp date': '12 dec 2022',\n",
              "  'product name': 'ponds powder',\n",
              "  'purchase date': '1 sept 2021',\n",
              "  'quantity': 188},\n",
              " '112305': {'bill generated': 200,\n",
              "  'exp date': '4 nov 2022',\n",
              "  'product name': 'coconut oil',\n",
              "  'purchase date': '1 sept 2021',\n",
              "  'quantity': 450},\n",
              " '112306': {'bill generated': 300,\n",
              "  'exp date': '4 nov 2022',\n",
              "  'product name': 'dettol',\n",
              "  'purchase date': '1 sept 2021',\n",
              "  'quantity': 250},\n",
              " '112307': {'bill generated': 500,\n",
              "  'exp date': 'nil',\n",
              "  'product name': 'earphones',\n",
              "  'purchase date': '1 sept 2021',\n",
              "  'quantity': 100},\n",
              " '112308': {'bill generated': 10,\n",
              "  'exp date': '4 nov 2022',\n",
              "  'product name': 'maggie',\n",
              "  'purchase date': '1 sept 2021',\n",
              "  'quantity': 100},\n",
              " '112309': {'bill generated': 12,\n",
              "  'exp date': '4 nov 2022',\n",
              "  'product name': 'yipee',\n",
              "  'purchase date': '1 sept 2021',\n",
              "  'quantity': 100},\n",
              " '112310': {'bill generated': 100,\n",
              "  'exp date': '4 nov 2022',\n",
              "  'product name': 'fair&lovely',\n",
              "  'purchase date': '1 sept 2021',\n",
              "  'quantity': 50},\n",
              " '112311': {'bill generated': 30,\n",
              "  'exp date': '4 nov 2022',\n",
              "  'product name': 'dark fantasy',\n",
              "  'purchase date': '1 sept 2021',\n",
              "  'quantity': 100},\n",
              " '112312': {'bill generated': 50,\n",
              "  'exp date': '4 nov 2022',\n",
              "  'product name': 'britannia',\n",
              "  'purchase date': '1 sept 2021',\n",
              "  'quantity': 500},\n",
              " '112313': {'bill generated': 20,\n",
              "  'exp date': '4 nov 2022',\n",
              "  'product name': 'moms magic',\n",
              "  'purchase date': '1 sept 2021',\n",
              "  'quantity': 250},\n",
              " '112314': {'bill generated': 30,\n",
              "  'exp date': '4 nov 2022',\n",
              "  'product name': 'goodday',\n",
              "  'purchase date': '1 sept 2021',\n",
              "  'quantity': 100},\n",
              " '112315': {'bill generated': 270,\n",
              "  'exp date': '4 nov 2022',\n",
              "  'product name': 'boost',\n",
              "  'purchase date': '1 sept 2021',\n",
              "  'quantity': 460},\n",
              " '112316': {'bill generated': 370,\n",
              "  'exp date': '4 nov 2022',\n",
              "  'product name': 'complan',\n",
              "  'purchase date': '1 sept 2021',\n",
              "  'quantity': 500},\n",
              " '112317': {'bill generated': 250,\n",
              "  'exp date': '4 nov 2022',\n",
              "  'product name': 'horlicks',\n",
              "  'purchase date': '1 sept 2021',\n",
              "  'quantity': 500},\n",
              " '112318': {'bill generated': 400,\n",
              "  'exp date': '4 nov 2022',\n",
              "  'product name': 'surf excel',\n",
              "  'purchase date': '1 sept 2021',\n",
              "  'quantity': 400},\n",
              " '112319': {'bill generated': 80,\n",
              "  'exp date': '4 nov 2022',\n",
              "  'product name': 'vim liquid',\n",
              "  'purchase date': '1 sept 2021',\n",
              "  'quantity': 400},\n",
              " '112320': {'bill generated': 30,\n",
              "  'exp date': '4 nov 2022',\n",
              "  'product name': 'cinthol soap',\n",
              "  'purchase date': '1 sept 2021',\n",
              "  'quantity': 90},\n",
              " '112321': {'bill generated': 50,\n",
              "  'exp date': '4 nov 2022',\n",
              "  'product name': 'mysore sandal',\n",
              "  'purchase date': '1 sept 2021',\n",
              "  'quantity': 100},\n",
              " '112322': {'bill generated': 40,\n",
              "  'exp date': '4 nov 2022',\n",
              "  'product name': 'lux',\n",
              "  'purchase date': '1 sept 2021',\n",
              "  'quantity': 70},\n",
              " '112323': {'bill generated': 30,\n",
              "  'exp date': '4 nov 2022',\n",
              "  'product name': 'rin soap',\n",
              "  'purchase date': '1 sept 2021',\n",
              "  'quantity': 100},\n",
              " '112324': {'bill generated': 160,\n",
              "  'exp date': '4 nov 2022',\n",
              "  'product name': 'clinic plus',\n",
              "  'purchase date': '1 sept 2021',\n",
              "  'quantity': 282},\n",
              " '112325': {'bill generated': 90,\n",
              "  'exp date': '4 nov 2022',\n",
              "  'product name': 'soyabeans',\n",
              "  'purchase date': '1 sept 2021',\n",
              "  'quantity': 100},\n",
              " '112326': {'bill generated': 200,\n",
              "  'exp date': '4 nov 2022',\n",
              "  'product name': 'sompapidi',\n",
              "  'purchase date': '1 sept 2021',\n",
              "  'quantity': 75},\n",
              " '112327': {'bill generated': 30,\n",
              "  'exp date': '4 nov 2022',\n",
              "  'product name': 'Reynold ball pens',\n",
              "  'purchase date': '1 sept 2021',\n",
              "  'quantity': 100},\n",
              " '112328': {'bill generated': 150,\n",
              "  'exp date': '4 nov 2022',\n",
              "  'product name': 'classmate notebooks',\n",
              "  'purchase date': '1 sept 2021',\n",
              "  'quantity': 100},\n",
              " '112329': {'bill generated': 50,\n",
              "  'exp date': '4 nov 2022',\n",
              "  'product name': 'apsara pencil',\n",
              "  'purchase date': '1 sept 2021',\n",
              "  'quantity': 100},\n",
              " '112330': {'bill generated': 60,\n",
              "  'exp date': '4 nov 2022',\n",
              "  'product name': 'camlin sketch pens',\n",
              "  'purchase date': '1 sept 2021',\n",
              "  'quantity': 100},\n",
              " '112331': {'bill generated': 50000,\n",
              "  'exp date': '5th nov 2030',\n",
              "  'product name': 'iphone',\n",
              "  'purchase date': '3rd sept 2021',\n",
              "  'quantity': 48},\n",
              " '112332': {'bill generated': 1500,\n",
              "  'exp date': '5th nov 2030',\n",
              "  'product name': 'mic',\n",
              "  'purchase date': '3rd sept 2021',\n",
              "  'quantity': 13}}"
            ]
          },
          "metadata": {},
          "execution_count": 149
        }
      ]
    },
    {
      "cell_type": "markdown",
      "metadata": {
        "id": "Xo-QQBHQhqLD"
      },
      "source": [
        "#update inventory after purchase"
      ]
    },
    {
      "cell_type": "code",
      "metadata": {
        "id": "td8z9pwFS8_r"
      },
      "source": [
        "js = json.dumps(product)\n",
        "\n",
        "fd = open('record.json' , 'w')\n",
        "fd.write(js)\n",
        "fd.close()"
      ],
      "execution_count": 146,
      "outputs": []
    },
    {
      "cell_type": "code",
      "metadata": {
        "id": "nOEsozxHS9OA"
      },
      "source": [
        "fd = open('record.json', 'r')\n",
        "r = fd.read()\n",
        "fd.close()"
      ],
      "execution_count": 147,
      "outputs": []
    },
    {
      "cell_type": "code",
      "metadata": {
        "id": "Zb9eY5fqRN3z",
        "colab": {
          "base_uri": "https://localhost:8080/",
          "height": 137
        },
        "outputId": "6e745926-0acd-4c57-fb31-d2e9fbda07fb"
      },
      "source": [
        "r"
      ],
      "execution_count": 148,
      "outputs": [
        {
          "output_type": "execute_result",
          "data": {
            "application/vnd.google.colaboratory.intrinsic+json": {
              "type": "string"
            },
            "text/plain": [
              "'{\"112301\": {\"product name\": \"meera shampoo\", \"quantity\": 240, \"bill generated\": 80, \"purchase date\": \"1 sept 2021\", \"exp date\": \"4 nov 2022\"}, \"112302\": {\"product name\": \"Bourbon\", \"quantity\": 80, \"bill generated\": 25, \"purchase date\": \"1 sept 2021\", \"exp date\": \"4 nov 2022\"}, \"112303\": {\"product name\": \"hide&seek\", \"quantity\": 75, \"bill generated\": 30, \"purchase date\": \"1 sept 2021\", \"exp date\": \"4 nov 2022\"}, \"112304\": {\"product name\": \"ponds powder\", \"quantity\": 188, \"bill generated\": 180, \"purchase date\": \"1 sept 2021\", \"exp date\": \"12 dec 2022\"}, \"112305\": {\"product name\": \"coconut oil\", \"quantity\": 450, \"bill generated\": 200, \"purchase date\": \"1 sept 2021\", \"exp date\": \"4 nov 2022\"}, \"112306\": {\"product name\": \"dettol\", \"quantity\": 250, \"bill generated\": 300, \"purchase date\": \"1 sept 2021\", \"exp date\": \"4 nov 2022\"}, \"112307\": {\"product name\": \"earphones\", \"quantity\": 100, \"bill generated\": 500, \"purchase date\": \"1 sept 2021\", \"exp date\": \"nil\"}, \"112308\": {\"product name\": \"maggie\", \"quantity\": 100, \"bill generated\": 10, \"purchase date\": \"1 sept 2021\", \"exp date\": \"4 nov 2022\"}, \"112309\": {\"product name\": \"yipee\", \"quantity\": 100, \"bill generated\": 12, \"purchase date\": \"1 sept 2021\", \"exp date\": \"4 nov 2022\"}, \"112310\": {\"product name\": \"fair&lovely\", \"quantity\": 50, \"bill generated\": 100, \"purchase date\": \"1 sept 2021\", \"exp date\": \"4 nov 2022\"}, \"112311\": {\"product name\": \"dark fantasy\", \"quantity\": 100, \"bill generated\": 30, \"purchase date\": \"1 sept 2021\", \"exp date\": \"4 nov 2022\"}, \"112312\": {\"product name\": \"britannia\", \"quantity\": 500, \"bill generated\": 50, \"purchase date\": \"1 sept 2021\", \"exp date\": \"4 nov 2022\"}, \"112313\": {\"product name\": \"moms magic\", \"quantity\": 250, \"bill generated\": 20, \"purchase date\": \"1 sept 2021\", \"exp date\": \"4 nov 2022\"}, \"112314\": {\"product name\": \"goodday\", \"quantity\": 100, \"bill generated\": 30, \"purchase date\": \"1 sept 2021\", \"exp date\": \"4 nov 2022\"}, \"112315\": {\"product name\": \"boost\", \"quantity\": 460, \"bill generated\": 270, \"purchase date\": \"1 sept 2021\", \"exp date\": \"4 nov 2022\"}, \"112316\": {\"product name\": \"complan\", \"quantity\": 500, \"bill generated\": 370, \"purchase date\": \"1 sept 2021\", \"exp date\": \"4 nov 2022\"}, \"112317\": {\"product name\": \"horlicks\", \"quantity\": 500, \"bill generated\": 250, \"purchase date\": \"1 sept 2021\", \"exp date\": \"4 nov 2022\"}, \"112318\": {\"product name\": \"surf excel\", \"quantity\": 400, \"bill generated\": 400, \"purchase date\": \"1 sept 2021\", \"exp date\": \"4 nov 2022\"}, \"112319\": {\"product name\": \"vim liquid\", \"quantity\": 400, \"bill generated\": 80, \"purchase date\": \"1 sept 2021\", \"exp date\": \"4 nov 2022\"}, \"112320\": {\"product name\": \"cinthol soap\", \"quantity\": 90, \"bill generated\": 30, \"purchase date\": \"1 sept 2021\", \"exp date\": \"4 nov 2022\"}, \"112321\": {\"product name\": \"mysore sandal\", \"quantity\": 100, \"bill generated\": 50, \"purchase date\": \"1 sept 2021\", \"exp date\": \"4 nov 2022\"}, \"112322\": {\"product name\": \"lux\", \"quantity\": 70, \"bill generated\": 40, \"purchase date\": \"1 sept 2021\", \"exp date\": \"4 nov 2022\"}, \"112323\": {\"product name\": \"rin soap\", \"quantity\": 100, \"bill generated\": 30, \"purchase date\": \"1 sept 2021\", \"exp date\": \"4 nov 2022\"}, \"112324\": {\"product name\": \"clinic plus\", \"quantity\": 282, \"bill generated\": 160, \"purchase date\": \"1 sept 2021\", \"exp date\": \"4 nov 2022\"}, \"112325\": {\"product name\": \"soyabeans\", \"quantity\": 100, \"bill generated\": 90, \"purchase date\": \"1 sept 2021\", \"exp date\": \"4 nov 2022\"}, \"112326\": {\"product name\": \"sompapidi\", \"quantity\": 75, \"bill generated\": 200, \"purchase date\": \"1 sept 2021\", \"exp date\": \"4 nov 2022\"}, \"112327\": {\"product name\": \"Reynold ball pens\", \"quantity\": 100, \"bill generated\": 30, \"purchase date\": \"1 sept 2021\", \"exp date\": \"4 nov 2022\"}, \"112328\": {\"product name\": \"classmate notebooks\", \"quantity\": 100, \"bill generated\": 150, \"purchase date\": \"1 sept 2021\", \"exp date\": \"4 nov 2022\"}, \"112329\": {\"product name\": \"apsara pencil\", \"quantity\": 100, \"bill generated\": 50, \"purchase date\": \"1 sept 2021\", \"exp date\": \"4 nov 2022\"}, \"112330\": {\"product name\": \"camlin sketch pens\", \"quantity\": 100, \"bill generated\": 60, \"purchase date\": \"1 sept 2021\", \"exp date\": \"4 nov 2022\"}, \"112331\": {\"product name\": \"iphone\", \"quantity\": 48, \"bill generated\": 50000, \"purchase date\": \"3rd sept 2021\", \"exp date\": \"5th nov 2030\"}, \"112332\": {\"product name\": \"mic\", \"quantity\": 13, \"bill generated\": 1500, \"purchase date\": \"3rd sept 2021\", \"exp date\": \"5th nov 2030\"}}'"
            ]
          },
          "metadata": {},
          "execution_count": 148
        }
      ]
    },
    {
      "cell_type": "markdown",
      "metadata": {
        "id": "VjvD8_r_heuJ"
      },
      "source": [
        "#sales"
      ]
    },
    {
      "cell_type": "code",
      "metadata": {
        "colab": {
          "base_uri": "https://localhost:8080/"
        },
        "id": "zqdvxQvPfITv",
        "outputId": "c59f4e9f-a96c-4aa5-b784-03ac3b6209b8"
      },
      "source": [
        "{'prod' : ui_prod, 'quantity' : ui_quant, 'amount' : product[ui_prod]['bill generated'] * ui_quant}"
      ],
      "execution_count": 80,
      "outputs": [
        {
          "output_type": "execute_result",
          "data": {
            "text/plain": [
              "{'amount': 800, 'prod': '112301', 'quantity': 10}"
            ]
          },
          "metadata": {},
          "execution_count": 80
        }
      ]
    },
    {
      "cell_type": "code",
      "metadata": {
        "id": "_Ew32Et-fIcQ"
      },
      "source": [
        "sales = {1 : {'prod' : ui_prod, 'quantity' : ui_quant, 'amount' : product[ui_prod]['bill generated'] * ui_quant},\n",
        "         2 : {'prod' : ui_prod, 'quantity' : ui_quant, 'amount' : product[ui_prod]['bill generated'] * ui_quant}\n",
        "}"
      ],
      "execution_count": 83,
      "outputs": []
    },
    {
      "cell_type": "code",
      "metadata": {
        "colab": {
          "base_uri": "https://localhost:8080/"
        },
        "id": "13joilQQfIh5",
        "outputId": "c2c84c78-548c-4eb7-e783-7eb069b22272"
      },
      "source": [
        "{(len(sales)+1) : {'prod' : ui_prod, 'quantity' : ui_quant, 'amount' : product[ui_prod]['bill generated'] * ui_quant}}"
      ],
      "execution_count": 67,
      "outputs": [
        {
          "output_type": "execute_result",
          "data": {
            "text/plain": [
              "{2: {'amount': 500, 'prod': '112302', 'quantity': 20}}"
            ]
          },
          "metadata": {},
          "execution_count": 67
        }
      ]
    },
    {
      "cell_type": "code",
      "metadata": {
        "id": "PeuNCb7vfIjK"
      },
      "source": [
        "sales[(len(sales)+1)] = {'prod' : ui_prod, 'quantity' : ui_quant, 'amount' : product[ui_prod]['bill generated'] * ui_quant}"
      ],
      "execution_count": 140,
      "outputs": []
    },
    {
      "cell_type": "code",
      "metadata": {
        "colab": {
          "base_uri": "https://localhost:8080/"
        },
        "id": "6kdNi07pfInb",
        "outputId": "fe6d7133-5b4e-4a43-f902-167f4c5d5dd1"
      },
      "source": [
        "sales"
      ],
      "execution_count": 141,
      "outputs": [
        {
          "output_type": "execute_result",
          "data": {
            "text/plain": [
              "{1: {'amount': 800, 'prod': '112301', 'quantity': 10},\n",
              " 2: {'amount': 800, 'prod': '112301', 'quantity': 10},\n",
              " 3: {'amount': 750, 'prod': '112303', 'quantity': 25},\n",
              " 4: {'amount': 2160, 'prod': '112304', 'quantity': 12},\n",
              " 5: {'amount': 10000, 'prod': '112305', 'quantity': 50},\n",
              " 6: {'amount': 300, 'prod': '112320', 'quantity': 10},\n",
              " 7: {'amount': 1200, 'prod': '112322', 'quantity': 30},\n",
              " 8: {'amount': 40000, 'prod': '112318', 'quantity': 100},\n",
              " 9: {'amount': 10800, 'prod': '112315', 'quantity': 40},\n",
              " 10: {'amount': 2880, 'prod': '112324', 'quantity': 18},\n",
              " 11: {'amount': 5000, 'prod': '112326', 'quantity': 25}}"
            ]
          },
          "metadata": {},
          "execution_count": 141
        }
      ]
    },
    {
      "cell_type": "code",
      "metadata": {
        "id": "rHAP28o3nwav"
      },
      "source": [
        "sale = json.dumps(sales)"
      ],
      "execution_count": 142,
      "outputs": []
    },
    {
      "cell_type": "code",
      "metadata": {
        "id": "xrUBu1jGnwnO"
      },
      "source": [
        "fd = open('sales.json', 'w')\n",
        "t = fd.write(sale)\n",
        "fd.close()"
      ],
      "execution_count": 143,
      "outputs": []
    },
    {
      "cell_type": "code",
      "metadata": {
        "id": "B9kZGthmnwuk"
      },
      "source": [
        "fd = open('sales.json', 'r')\n",
        "t = fd.read()\n",
        "fd.close()"
      ],
      "execution_count": 144,
      "outputs": []
    },
    {
      "cell_type": "code",
      "metadata": {
        "colab": {
          "base_uri": "https://localhost:8080/",
          "height": 86
        },
        "id": "dor0dujEvuN0",
        "outputId": "ac0f7cb0-d54f-4daf-aae1-d356c6f23e4a"
      },
      "source": [
        "t"
      ],
      "execution_count": 145,
      "outputs": [
        {
          "output_type": "execute_result",
          "data": {
            "application/vnd.google.colaboratory.intrinsic+json": {
              "type": "string"
            },
            "text/plain": [
              "'{\"1\": {\"prod\": \"112301\", \"quantity\": 10, \"amount\": 800}, \"2\": {\"prod\": \"112301\", \"quantity\": 10, \"amount\": 800}, \"3\": {\"prod\": \"112303\", \"quantity\": 25, \"amount\": 750}, \"4\": {\"prod\": \"112304\", \"quantity\": 12, \"amount\": 2160}, \"5\": {\"prod\": \"112305\", \"quantity\": 50, \"amount\": 10000}, \"6\": {\"prod\": \"112320\", \"quantity\": 10, \"amount\": 300}, \"7\": {\"prod\": \"112322\", \"quantity\": 30, \"amount\": 1200}, \"8\": {\"prod\": \"112318\", \"quantity\": 100, \"amount\": 40000}, \"9\": {\"prod\": \"112315\", \"quantity\": 40, \"amount\": 10800}, \"10\": {\"prod\": \"112324\", \"quantity\": 18, \"amount\": 2880}, \"11\": {\"prod\": \"112326\", \"quantity\": 25, \"amount\": 5000}}'"
            ]
          },
          "metadata": {},
          "execution_count": 145
        }
      ]
    },
    {
      "cell_type": "code",
      "metadata": {
        "colab": {
          "base_uri": "https://localhost:8080/"
        },
        "id": "d7FRHR9jp-Xl",
        "outputId": "8dc0d7cc-f8c0-4ff1-e437-4920aabe77c8"
      },
      "source": [
        "product"
      ],
      "execution_count": 150,
      "outputs": [
        {
          "output_type": "execute_result",
          "data": {
            "text/plain": [
              "{'112301': {'bill generated': 80,\n",
              "  'exp date': '4 nov 2022',\n",
              "  'product name': 'meera shampoo',\n",
              "  'purchase date': '1 sept 2021',\n",
              "  'quantity': 240},\n",
              " '112302': {'bill generated': 25,\n",
              "  'exp date': '4 nov 2022',\n",
              "  'product name': 'Bourbon',\n",
              "  'purchase date': '1 sept 2021',\n",
              "  'quantity': 80},\n",
              " '112303': {'bill generated': 30,\n",
              "  'exp date': '4 nov 2022',\n",
              "  'product name': 'hide&seek',\n",
              "  'purchase date': '1 sept 2021',\n",
              "  'quantity': 75},\n",
              " '112304': {'bill generated': 180,\n",
              "  'exp date': '12 dec 2022',\n",
              "  'product name': 'ponds powder',\n",
              "  'purchase date': '1 sept 2021',\n",
              "  'quantity': 188},\n",
              " '112305': {'bill generated': 200,\n",
              "  'exp date': '4 nov 2022',\n",
              "  'product name': 'coconut oil',\n",
              "  'purchase date': '1 sept 2021',\n",
              "  'quantity': 450},\n",
              " '112306': {'bill generated': 300,\n",
              "  'exp date': '4 nov 2022',\n",
              "  'product name': 'dettol',\n",
              "  'purchase date': '1 sept 2021',\n",
              "  'quantity': 250},\n",
              " '112307': {'bill generated': 500,\n",
              "  'exp date': 'nil',\n",
              "  'product name': 'earphones',\n",
              "  'purchase date': '1 sept 2021',\n",
              "  'quantity': 100},\n",
              " '112308': {'bill generated': 10,\n",
              "  'exp date': '4 nov 2022',\n",
              "  'product name': 'maggie',\n",
              "  'purchase date': '1 sept 2021',\n",
              "  'quantity': 100},\n",
              " '112309': {'bill generated': 12,\n",
              "  'exp date': '4 nov 2022',\n",
              "  'product name': 'yipee',\n",
              "  'purchase date': '1 sept 2021',\n",
              "  'quantity': 100},\n",
              " '112310': {'bill generated': 100,\n",
              "  'exp date': '4 nov 2022',\n",
              "  'product name': 'fair&lovely',\n",
              "  'purchase date': '1 sept 2021',\n",
              "  'quantity': 50},\n",
              " '112311': {'bill generated': 30,\n",
              "  'exp date': '4 nov 2022',\n",
              "  'product name': 'dark fantasy',\n",
              "  'purchase date': '1 sept 2021',\n",
              "  'quantity': 100},\n",
              " '112312': {'bill generated': 50,\n",
              "  'exp date': '4 nov 2022',\n",
              "  'product name': 'britannia',\n",
              "  'purchase date': '1 sept 2021',\n",
              "  'quantity': 500},\n",
              " '112313': {'bill generated': 20,\n",
              "  'exp date': '4 nov 2022',\n",
              "  'product name': 'moms magic',\n",
              "  'purchase date': '1 sept 2021',\n",
              "  'quantity': 250},\n",
              " '112314': {'bill generated': 30,\n",
              "  'exp date': '4 nov 2022',\n",
              "  'product name': 'goodday',\n",
              "  'purchase date': '1 sept 2021',\n",
              "  'quantity': 100},\n",
              " '112315': {'bill generated': 270,\n",
              "  'exp date': '4 nov 2022',\n",
              "  'product name': 'boost',\n",
              "  'purchase date': '1 sept 2021',\n",
              "  'quantity': 460},\n",
              " '112316': {'bill generated': 370,\n",
              "  'exp date': '4 nov 2022',\n",
              "  'product name': 'complan',\n",
              "  'purchase date': '1 sept 2021',\n",
              "  'quantity': 500},\n",
              " '112317': {'bill generated': 250,\n",
              "  'exp date': '4 nov 2022',\n",
              "  'product name': 'horlicks',\n",
              "  'purchase date': '1 sept 2021',\n",
              "  'quantity': 500},\n",
              " '112318': {'bill generated': 400,\n",
              "  'exp date': '4 nov 2022',\n",
              "  'product name': 'surf excel',\n",
              "  'purchase date': '1 sept 2021',\n",
              "  'quantity': 400},\n",
              " '112319': {'bill generated': 80,\n",
              "  'exp date': '4 nov 2022',\n",
              "  'product name': 'vim liquid',\n",
              "  'purchase date': '1 sept 2021',\n",
              "  'quantity': 400},\n",
              " '112320': {'bill generated': 30,\n",
              "  'exp date': '4 nov 2022',\n",
              "  'product name': 'cinthol soap',\n",
              "  'purchase date': '1 sept 2021',\n",
              "  'quantity': 90},\n",
              " '112321': {'bill generated': 50,\n",
              "  'exp date': '4 nov 2022',\n",
              "  'product name': 'mysore sandal',\n",
              "  'purchase date': '1 sept 2021',\n",
              "  'quantity': 100},\n",
              " '112322': {'bill generated': 40,\n",
              "  'exp date': '4 nov 2022',\n",
              "  'product name': 'lux',\n",
              "  'purchase date': '1 sept 2021',\n",
              "  'quantity': 70},\n",
              " '112323': {'bill generated': 30,\n",
              "  'exp date': '4 nov 2022',\n",
              "  'product name': 'rin soap',\n",
              "  'purchase date': '1 sept 2021',\n",
              "  'quantity': 100},\n",
              " '112324': {'bill generated': 160,\n",
              "  'exp date': '4 nov 2022',\n",
              "  'product name': 'clinic plus',\n",
              "  'purchase date': '1 sept 2021',\n",
              "  'quantity': 282},\n",
              " '112325': {'bill generated': 90,\n",
              "  'exp date': '4 nov 2022',\n",
              "  'product name': 'soyabeans',\n",
              "  'purchase date': '1 sept 2021',\n",
              "  'quantity': 100},\n",
              " '112326': {'bill generated': 200,\n",
              "  'exp date': '4 nov 2022',\n",
              "  'product name': 'sompapidi',\n",
              "  'purchase date': '1 sept 2021',\n",
              "  'quantity': 75},\n",
              " '112327': {'bill generated': 30,\n",
              "  'exp date': '4 nov 2022',\n",
              "  'product name': 'Reynold ball pens',\n",
              "  'purchase date': '1 sept 2021',\n",
              "  'quantity': 100},\n",
              " '112328': {'bill generated': 150,\n",
              "  'exp date': '4 nov 2022',\n",
              "  'product name': 'classmate notebooks',\n",
              "  'purchase date': '1 sept 2021',\n",
              "  'quantity': 100},\n",
              " '112329': {'bill generated': 50,\n",
              "  'exp date': '4 nov 2022',\n",
              "  'product name': 'apsara pencil',\n",
              "  'purchase date': '1 sept 2021',\n",
              "  'quantity': 100},\n",
              " '112330': {'bill generated': 60,\n",
              "  'exp date': '4 nov 2022',\n",
              "  'product name': 'camlin sketch pens',\n",
              "  'purchase date': '1 sept 2021',\n",
              "  'quantity': 100},\n",
              " '112331': {'bill generated': 50000,\n",
              "  'exp date': '5th nov 2030',\n",
              "  'product name': 'iphone',\n",
              "  'purchase date': '3rd sept 2021',\n",
              "  'quantity': 48},\n",
              " '112332': {'bill generated': 1500,\n",
              "  'exp date': '5th nov 2030',\n",
              "  'product name': 'mic',\n",
              "  'purchase date': '3rd sept 2021',\n",
              "  'quantity': 13}}"
            ]
          },
          "metadata": {},
          "execution_count": 150
        }
      ]
    }
  ]
}